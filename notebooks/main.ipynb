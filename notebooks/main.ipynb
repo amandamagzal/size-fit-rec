{
 "cells": [
  {
   "cell_type": "code",
   "execution_count": null,
   "metadata": {},
   "outputs": [],
   "source": [
    "from pathlib import Path\n",
    "import sys\n",
    "\n",
    "ROOT = Path.cwd().resolve().parent      # repo root (..)\n",
    "DATA_DIR = ROOT / \"data\"\n",
    "sys.path.insert(0, str(ROOT / \"src\"))"
   ]
  },
  {
   "cell_type": "code",
   "execution_count": null,
   "metadata": {},
   "outputs": [],
   "source": [
    "from datagen.build_data import generate_and_read_data\n",
    "from datagen.constants import N_CONSUMERS, N_PRODUCTS"
   ]
  },
  {
   "cell_type": "code",
   "execution_count": null,
   "metadata": {},
   "outputs": [],
   "source": [
    "dfs = generate_and_read_data(out_dir=DATA_DIR, n_consumers=N_CONSUMERS, n_products=N_PRODUCTS)\n",
    "dfs[\"transactions\"].head()"
   ]
  },
  {
   "cell_type": "code",
   "execution_count": null,
   "metadata": {},
   "outputs": [],
   "source": [
    "from sizerec.train import main\n",
    "CFG = Path.cwd().resolve().parent / \"configs\" / \"transformer_base.yaml\"  # notebooks/ → repo/configs/\n",
    "main(str(CFG))\n"
   ]
  }
 ],
 "metadata": {
  "kernelspec": {
   "display_name": "base",
   "language": "python",
   "name": "python3"
  },
  "language_info": {
   "codemirror_mode": {
    "name": "ipython",
    "version": 3
   },
   "file_extension": ".py",
   "mimetype": "text/x-python",
   "name": "python",
   "nbconvert_exporter": "python",
   "pygments_lexer": "ipython3",
   "version": "3.12.7"
  }
 },
 "nbformat": 4,
 "nbformat_minor": 2
}
