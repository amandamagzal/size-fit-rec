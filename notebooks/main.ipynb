{
 "cells": [
  {
   "cell_type": "code",
   "execution_count": 13,
   "metadata": {},
   "outputs": [],
   "source": [
    "from pathlib import Path\n",
    "import sys\n",
    "\n",
    "ROOT = Path.cwd().resolve().parent      # repo root (..)\n",
    "DATA_DIR = ROOT / \"data\"\n",
    "sys.path.insert(0, str(ROOT / \"src\"))   # add src to import path"
   ]
  },
  {
   "cell_type": "code",
   "execution_count": 14,
   "metadata": {},
   "outputs": [],
   "source": [
    "from datagen.build_data import build_and_save_synth\n",
    "from datagen.constants import n_consumers, n_products"
   ]
  },
  {
   "cell_type": "code",
   "execution_count": 15,
   "metadata": {},
   "outputs": [
    {
     "data": {
      "text/html": [
       "<div>\n",
       "<style scoped>\n",
       "    .dataframe tbody tr th:only-of-type {\n",
       "        vertical-align: middle;\n",
       "    }\n",
       "\n",
       "    .dataframe tbody tr th {\n",
       "        vertical-align: top;\n",
       "    }\n",
       "\n",
       "    .dataframe thead th {\n",
       "        text-align: right;\n",
       "    }\n",
       "</style>\n",
       "<table border=\"1\" class=\"dataframe\">\n",
       "  <thead>\n",
       "    <tr style=\"text-align: right;\">\n",
       "      <th></th>\n",
       "      <th>consumer_id</th>\n",
       "      <th>product_id</th>\n",
       "      <th>purchased_size</th>\n",
       "      <th>fit_outcome</th>\n",
       "      <th>transaction_date</th>\n",
       "    </tr>\n",
       "  </thead>\n",
       "  <tbody>\n",
       "    <tr>\n",
       "      <th>0</th>\n",
       "      <td>c_1</td>\n",
       "      <td>a_853</td>\n",
       "      <td>XS</td>\n",
       "      <td>too small</td>\n",
       "      <td>2021-07-04</td>\n",
       "    </tr>\n",
       "    <tr>\n",
       "      <th>1</th>\n",
       "      <td>c_1</td>\n",
       "      <td>a_394</td>\n",
       "      <td>M</td>\n",
       "      <td>too large</td>\n",
       "      <td>2021-08-03</td>\n",
       "    </tr>\n",
       "    <tr>\n",
       "      <th>2</th>\n",
       "      <td>c_1</td>\n",
       "      <td>a_381</td>\n",
       "      <td>S</td>\n",
       "      <td>fit</td>\n",
       "      <td>2021-09-10</td>\n",
       "    </tr>\n",
       "    <tr>\n",
       "      <th>3</th>\n",
       "      <td>c_1</td>\n",
       "      <td>a_455</td>\n",
       "      <td>8.5</td>\n",
       "      <td>too large</td>\n",
       "      <td>2021-09-11</td>\n",
       "    </tr>\n",
       "    <tr>\n",
       "      <th>4</th>\n",
       "      <td>c_1</td>\n",
       "      <td>a_471</td>\n",
       "      <td>8.0</td>\n",
       "      <td>too large</td>\n",
       "      <td>2021-11-03</td>\n",
       "    </tr>\n",
       "  </tbody>\n",
       "</table>\n",
       "</div>"
      ],
      "text/plain": [
       "  consumer_id product_id purchased_size fit_outcome transaction_date\n",
       "0         c_1      a_853             XS   too small       2021-07-04\n",
       "1         c_1      a_394              M   too large       2021-08-03\n",
       "2         c_1      a_381              S         fit       2021-09-10\n",
       "3         c_1      a_455            8.5   too large       2021-09-11\n",
       "4         c_1      a_471            8.0   too large       2021-11-03"
      ]
     },
     "execution_count": 15,
     "metadata": {},
     "output_type": "execute_result"
    }
   ],
   "source": [
    "dfs = build_and_save_synth(out_dir=DATA_DIR, n_consumers=n_consumers, n_products=n_products)\n",
    "dfs[\"transactions\"].head()"
   ]
  }
 ],
 "metadata": {
  "kernelspec": {
   "display_name": ".venv",
   "language": "python",
   "name": "python3"
  },
  "language_info": {
   "codemirror_mode": {
    "name": "ipython",
    "version": 3
   },
   "file_extension": ".py",
   "mimetype": "text/x-python",
   "name": "python",
   "nbconvert_exporter": "python",
   "pygments_lexer": "ipython3",
   "version": "3.9.6"
  }
 },
 "nbformat": 4,
 "nbformat_minor": 2
}
