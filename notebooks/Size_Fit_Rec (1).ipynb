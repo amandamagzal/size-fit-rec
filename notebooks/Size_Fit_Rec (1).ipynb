{
 "cells": [
  {
   "cell_type": "markdown",
   "id": "c09dc311-1f5b-497f-b4de-a244fa1e1c4c",
   "metadata": {},
   "source": [
    "<img src=\"DS Practical Header.png\"/>"
   ]
  },
  {
   "cell_type": "markdown",
   "id": "cf7697f5-563e-4f27-bb58-f140bb23da5d",
   "metadata": {},
   "source": [
    "The project aims to compare the performance of a transformer-based recommendation system with multi-head attention against a system using an xLSTM block stack. The xLSTM, introduced in the paper \"xLSTM: Extended Long Short-Term Memory,\" proposes enhancements to the classic LSTM architecture, including exponential gating, new stabilization methods, and a new memory structure for parallelization.\n",
    "\n",
    "The central research questions are:\n",
    "1. How do transformer and xLSTM architectures compare in predictive performance in a sequence-based Size & Fit recommendation system?\n",
    "2. What impact do dataset characteristics and sequence length have on this comparison?\n",
    "3. How does xLSTM perform in terms of trainable parameters, runtime, and memory usage?"
   ]
  },
  {
   "cell_type": "markdown",
   "id": "c89beb6a-2342-44e8-9604-45c08573b5e7",
   "metadata": {},
   "source": [
    "---"
   ]
  },
  {
   "cell_type": "markdown",
   "id": "d402f8e1-6af8-4364-a107-a3869f7efa74",
   "metadata": {},
   "source": [
    "# Table of Contents\n",
    "### [1 Setup](#setup)\n",
    "### [2 Data Generation](#data_generation)\n",
    "* [2.1 Global Definitions](#global_definitions)\n",
    "* [2.2 Consumer Data Generation](#consumer_data)\n",
    "* [2.3 Product Data Generation](#product_data)\n",
    "* [2.4 Transaction Data Generation](#transaction_data)\n",
    "### [3 Data Exploration](#data_exploration)\n",
    "* [3.1 Consumer Data](#consumer_data_viz)\n",
    "* [3.2 Product Data](#product_data_viz)\n",
    "* [3.3 Transaction Data](#transaction_data_viz)\n",
    "### [4 Model Training](#model_training)\n",
    "* [4.1 Data Preparation](#data_preparation)\n",
    "* [4.2 Random Forest - Baseline Model](#random_forest)\n",
    "* [4.3 Transformer](#transformer)"
   ]
  },
  {
   "cell_type": "markdown",
   "id": "c842ecf9-a16f-4fa3-9b05-975ef1aec02e",
   "metadata": {},
   "source": [
    "---"
   ]
  },
  {
   "cell_type": "markdown",
   "id": "7ad1439a-8346-4da8-88dd-0ae856afd9af",
   "metadata": {},
   "source": [
    "## 1 Setup <a id=\"setup\"></a>\n",
    "\n",
    "This section includes necessary library imports and the setting of the random seed for reproducibility of the results."
   ]
  },
  {
   "cell_type": "code",
   "execution_count": 7,
   "id": "823fcea3-a99f-495a-8af7-c6eb52602e56",
   "metadata": {},
   "outputs": [],
   "source": [
    "import warnings\n",
    "warnings.filterwarnings(\"ignore\")\n",
    "\n",
    "# Data processing\n",
    "import pandas as pd\n",
    "import numpy as np\n",
    "from datetime import timedelta\n",
    "from scipy.stats import truncnorm\n",
    "\n",
    "# Visualization\n",
    "import matplotlib.pyplot as plt\n",
    "import seaborn as sns\n",
    "\n",
    "# Models\n",
    "from sklearn.model_selection import train_test_split\n",
    "from sklearn.model_selection import GridSearchCV\n",
    "from sklearn.ensemble import RandomForestClassifier\n",
    "from sklearn.preprocessing import OrdinalEncoder, StandardScaler\n",
    "from sklearn.pipeline import Pipeline\n",
    "from sklearn.compose import ColumnTransformer\n",
    "from sklearn.metrics import accuracy_score, classification_report, confusion_matrix"
   ]
  },
  {
   "cell_type": "code",
   "execution_count": 8,
   "id": "40964b37-8244-4741-86e4-108a0027dd53",
   "metadata": {},
   "outputs": [],
   "source": [
    "# Random seed\n",
    "np.random.seed(111)"
   ]
  },
  {
   "cell_type": "markdown",
   "id": "3b5d08fd-89e1-447d-ba5b-04b1b82713b8",
   "metadata": {},
   "source": [
    "---"
   ]
  },
  {
   "cell_type": "markdown",
   "id": "a728fa2b-54b1-46ad-8f28-307409b24929",
   "metadata": {},
   "source": [
    "## 2 Data Generation <a id=\"data_generation\"></a>\n",
    "\n",
    "This section includes creating the synthetic data used to train and evaluate the models."
   ]
  },
  {
   "cell_type": "markdown",
   "id": "498cc013-6d57-400e-8f90-65391719d0cb",
   "metadata": {},
   "source": [
    "### 2.1 Global Definitions <a id=\"global_definitions\"></a>\n",
    "Define the gender and country lists used across the dataset generation process."
   ]
  },
  {
   "cell_type": "code",
   "execution_count": 12,
   "id": "c932fa6f-34b0-490e-9f38-9b32d405730a",
   "metadata": {},
   "outputs": [],
   "source": [
    "genders = ['Male', 'Female', 'Other']\n",
    "countries = ['USA', 'Germany', 'UK', 'Japan']"
   ]
  },
  {
   "cell_type": "markdown",
   "id": "35e129c6-5883-49f3-8fae-ed7a3a869e65",
   "metadata": {},
   "source": [
    "### 2.2 Consumer Data Generation <a id=\"consumer_data\"></a>\n",
    "\n",
    "This section creates a DataFrame for consumer features including ID, gender, country, and age, along with their respective clothing and shoe sizes. It also includes personal margins for size tolerance."
   ]
  },
  {
   "cell_type": "code",
   "execution_count": 14,
   "id": "2fd4af3a-b540-432e-b221-94c6764ed524",
   "metadata": {},
   "outputs": [],
   "source": [
    "# Parameters\n",
    "\n",
    "# Total number of customers\n",
    "n_consumers = 1000\n",
    "\n",
    "# Average age and standard deviation\n",
    "age_mean = 35\n",
    "age_std = 10"
   ]
  },
  {
   "cell_type": "code",
   "execution_count": 15,
   "id": "5fe89018-c0c2-443f-8633-4dadaa76ce75",
   "metadata": {},
   "outputs": [],
   "source": [
    "# Define size distributions by gender (the gender \"Other\" is simply the average of male and female)\n",
    "\n",
    "# Universal clothing sizes for simplicity\n",
    "sizes = ['2XS', 'XS', 'S', 'M', 'L', 'XL', '2XL']\n",
    "size_dists = {\n",
    "    'Female': np.array([1, 5, 30, 26, 20, 10, 8]) / 100,\n",
    "    'Male': np.array([0.5, 1, 7, 28, 30, 20, 13.5]) / 100\n",
    "}\n",
    "size_dists['Other'] = (size_dists['Female'] + size_dists['Male']) / 2\n",
    "\n",
    "# Shoe sizes from 4.5 to 15.5 (UK scale for simplicity)\n",
    "shoe_sizes = np.arange(4.5, 16, 0.5)\n",
    "\n",
    "# Shoe sizes frequency extracted from an online resource\n",
    "frequency_male = np.array([1, 2, 3, 4, 6, 7, 9, 11, 12, 14, 12, 10, 9, 7, 6, 4, 3, 2, 2, 1, 1, 0, 0])\n",
    "frequency_female = np.array([0, 1, 2, 3, 5, 7, 9, 11, 13, 15, 14, 12, 10, 8, 7, 5, 4, 3, 2, 1, 1, 0, 0])\n",
    "\n",
    "# Normalize to calculate probabilites\n",
    "shoe_size_dist = {\n",
    "    'Female': frequency_female / frequency_female.sum(),\n",
    "    'Male': frequency_male / frequency_male.sum()\n",
    "}\n",
    "shoe_size_dist['Other'] = (shoe_size_dist['Female'] + shoe_size_dist['Male']) / 2"
   ]
  },
  {
   "cell_type": "code",
   "execution_count": 16,
   "id": "f60e82d5-ce07-4216-8057-048831fa2cbb",
   "metadata": {},
   "outputs": [],
   "source": [
    "# Function to generate correlated upper and lower sizes based on gender-specific distributions\n",
    "def assign_sizes(row):\n",
    "    \n",
    "    \"\"\"\n",
    "    Assigns correlated upper and lower clothing sizes and a shoe size to a consumer.\n",
    "    \n",
    "    For clothing sizes, it randomly selects an index using a gender-specific probability distribution.\n",
    "    For shoe sizes, it uses the gender-specific frequency distribution combined with a Gaussian \n",
    "    centered around a mean shoe size derived from the clothing size index.\n",
    "    \n",
    "    Parameters:\n",
    "    - row: DataFrame row containing consumer data.\n",
    "    \n",
    "    Returns:\n",
    "    - Series containing upper_size, lower_size, and shoe_size.\n",
    "    \"\"\"\n",
    "\n",
    "    # Assign upper clothing parts size\n",
    "    upper_size_idx = np.random.choice(range(len(sizes)), p = size_dists[row['gender']])\n",
    "    \n",
    "    # Assign lower clothing part size by applying a simple correlation factor: mostly the same size, sometimes one size apart\n",
    "    if np.random.rand() < 0.80:\n",
    "        lower_size_idx = upper_size_idx\n",
    "    else:\n",
    "        lower_size_idx = np.random.choice([max(0, upper_size_idx - 1), min(len(sizes) - 1, upper_size_idx + 1)])\n",
    "\n",
    "    # Assign shoe size\n",
    "    shoe_choice = np.random.choice(shoe_sizes, p = shoe_size_dist[row['gender']])\n",
    "\n",
    "    # Get the base frequency distribution for shoe sizes based on gender.\n",
    "    if row['gender'] == 'Female':\n",
    "        base_freq = frequency_female\n",
    "    elif row['gender'] == 'Male':\n",
    "        base_freq = frequency_male\n",
    "    else:\n",
    "        base_freq = (frequency_female + frequency_male) / 2.0\n",
    "\n",
    "    # Normalize the frequency distribution to form probabilities.\n",
    "    base_prob = base_freq / base_freq.sum()\n",
    "    \n",
    "    # Map the clothing size index (upper_size_idx) to a base mean shoe size using linear interpolation.\n",
    "    # The mapping is from the clothing size range (indices 0 to len(sizes)-1) to the shoe size range.\n",
    "    min_shoe = shoe_sizes[0]\n",
    "    max_shoe = shoe_sizes[-1]\n",
    "    base_mean_shoe = min_shoe + (max_shoe - min_shoe) * (upper_size_idx / (len(sizes) - 1))\n",
    "    \n",
    "    # Apply a gender-specific offset to adjust the mean shoe size:\n",
    "    # For females, subtract 0.5; for males, no offset; for \"Other\", use an intermediate offset.\n",
    "    if row['gender'] == 'Female':\n",
    "        gender_offset = -0.5\n",
    "    elif row['gender'] == 'Male':\n",
    "        gender_offset = 0.0\n",
    "    else:\n",
    "        gender_offset = -0.25\n",
    "    mean_shoe = base_mean_shoe + gender_offset\n",
    "    \n",
    "    # Define a Gaussian (normal) distribution over the shoe sizes centered at mean_shoe.\n",
    "    # A small sigma (e.g., 0.5) ensures the distribution is peaked around the mean.\n",
    "    sigma = 0.5\n",
    "    gaussian_weights = np.exp(-0.5 * ((shoe_sizes - mean_shoe) / sigma)**2)\n",
    "    gaussian_weights = gaussian_weights / gaussian_weights.sum()  # Normalize to sum to 1\n",
    "    \n",
    "    # Combine the base frequency probabilities with the Gaussian weights.\n",
    "    # This product emphasizes shoe sizes near the mean while retaining the overall frequency distribution.\n",
    "    combined_prob = base_prob * gaussian_weights\n",
    "    combined_prob = combined_prob / combined_prob.sum()  # Renormalize to sum to 1\n",
    "    \n",
    "    # Sample a shoe size from the combined probability distribution.\n",
    "    shoe_choice = np.random.choice(shoe_sizes, p=combined_prob)\n",
    "\n",
    "    return pd.Series([sizes[upper_size_idx], sizes[lower_size_idx], shoe_choice])"
   ]
  },
  {
   "cell_type": "code",
   "execution_count": 17,
   "id": "9b89dd74-7868-47f4-ae4a-12675c2ff431",
   "metadata": {},
   "outputs": [],
   "source": [
    "def assign_personal_margins(consumer_df):\n",
    "    \n",
    "    \"\"\"\n",
    "    Generates personal size tolerance margins for consumers, adjusted by gender and country.\n",
    "    \n",
    "    Parameters:\n",
    "    - consumer_df: DataFrame containing consumer data with 'gender' and 'country' columns.\n",
    "    \n",
    "    Returns:\n",
    "    - Two pandas Series representing the tolerance margins for products that run too small and too large.\n",
    "    \"\"\"\n",
    "    \n",
    "    n = len(consumer_df)\n",
    "    \n",
    "    # Baseline margins (sampled uniformly)\n",
    "    baseline_small = np.random.uniform(-0.5, 0, size = n)   # Baseline tolerance for \"too small\"\n",
    "    baseline_large = np.random.uniform(0, 0.65, size = n)     # Baseline tolerance for \"too large\"\n",
    "    \n",
    "    # Define gender-based adjustments for margins\n",
    "    gender_adj_small = {'Male': -0.1, 'Female': 0.1, 'Other': 0.0}\n",
    "    gender_adj_large = {'Male': 0.1, 'Female': -0.1, 'Other': 0.0}\n",
    "    \n",
    "    # Define country-based adjustments for margins\n",
    "    country_adj_small = {'USA': -0.1, 'Germany': 0.0, 'UK': 0.1, 'Japan': -0.05}\n",
    "    country_adj_large = {'USA': 0.1, 'Germany': 0.0, 'UK': -0.1, 'Japan': 0.05}\n",
    "    \n",
    "    margins_small = []\n",
    "    margins_large = []\n",
    "    \n",
    "    # Loop over each consumer and adjust the baseline margins using gender and country\n",
    "    for i, row in consumer_df.iterrows():\n",
    "        \n",
    "        g = row['gender']\n",
    "        c = row['country']\n",
    "        \n",
    "        # Adjust baseline with gender and country corrections\n",
    "        margin_small = baseline_small[i] + gender_adj_small.get(g, 0) + country_adj_small.get(c, 0)\n",
    "        margin_large = baseline_large[i] + gender_adj_large.get(g, 0) + country_adj_large.get(c, 0)\n",
    "        \n",
    "        margins_small.append(round(margin_small, 2))\n",
    "        margins_large.append(round(margin_large, 2))\n",
    "    \n",
    "    return pd.Series(margins_small), pd.Series(margins_large)"
   ]
  },
  {
   "cell_type": "code",
   "execution_count": 18,
   "id": "184df936-928c-407e-bea6-caeabbaf7bad",
   "metadata": {},
   "outputs": [],
   "source": [
    "# Generate consumer features\n",
    "consumer_features = pd.DataFrame({\n",
    "    'consumer_id': [f'c_{i}' for i in range(1, n_consumers + 1)],\n",
    "    'gender': np.random.choice(genders, size = n_consumers, p = [0.4, 0.45, 0.15]),\n",
    "    'country': np.random.choice(countries, size = n_consumers),\n",
    "    'age': np.clip(np.random.normal(age_mean, age_std, size = n_consumers), 18, 65).astype(int)\n",
    "})"
   ]
  },
  {
   "cell_type": "code",
   "execution_count": 19,
   "id": "9a964f46-08a0-4e6b-a301-f7c3aa52b3ae",
   "metadata": {},
   "outputs": [],
   "source": [
    "# Assign sizes\n",
    "consumer_features[['upper_size', 'lower_size', 'shoe_size']] = consumer_features.apply(assign_sizes, axis = 1)"
   ]
  },
  {
   "cell_type": "code",
   "execution_count": 20,
   "id": "63778ad8-c297-48cd-bcff-f28cadade90c",
   "metadata": {},
   "outputs": [],
   "source": [
    "# Add personal margins to consumers\n",
    "consumer_features['consumer_tolerance_too_small'], consumer_features['consumer_tolerance_too_large'] = assign_personal_margins(consumer_features)"
   ]
  },
  {
   "cell_type": "code",
   "execution_count": 21,
   "id": "2187a178-dfcb-4d34-8271-a68add2106d3",
   "metadata": {},
   "outputs": [],
   "source": [
    "# Add date of first purchase\n",
    "consumer_features['start_date'] = pd.to_datetime('2021-01-01') + pd.to_timedelta(np.random.randint(0, 365, size = len(consumer_features)), unit = 'd')"
   ]
  },
  {
   "cell_type": "code",
   "execution_count": 22,
   "id": "85ea7f70-22ab-4e26-9197-4aaba27d273b",
   "metadata": {},
   "outputs": [
    {
     "data": {
      "text/html": [
       "<div>\n",
       "<style scoped>\n",
       "    .dataframe tbody tr th:only-of-type {\n",
       "        vertical-align: middle;\n",
       "    }\n",
       "\n",
       "    .dataframe tbody tr th {\n",
       "        vertical-align: top;\n",
       "    }\n",
       "\n",
       "    .dataframe thead th {\n",
       "        text-align: right;\n",
       "    }\n",
       "</style>\n",
       "<table border=\"1\" class=\"dataframe\">\n",
       "  <thead>\n",
       "    <tr style=\"text-align: right;\">\n",
       "      <th></th>\n",
       "      <th>consumer_id</th>\n",
       "      <th>gender</th>\n",
       "      <th>country</th>\n",
       "      <th>age</th>\n",
       "      <th>upper_size</th>\n",
       "      <th>lower_size</th>\n",
       "      <th>shoe_size</th>\n",
       "      <th>consumer_tolerance_too_small</th>\n",
       "      <th>consumer_tolerance_too_large</th>\n",
       "      <th>start_date</th>\n",
       "    </tr>\n",
       "  </thead>\n",
       "  <tbody>\n",
       "    <tr>\n",
       "      <th>206</th>\n",
       "      <td>c_207</td>\n",
       "      <td>Female</td>\n",
       "      <td>UK</td>\n",
       "      <td>25</td>\n",
       "      <td>S</td>\n",
       "      <td>XS</td>\n",
       "      <td>8.0</td>\n",
       "      <td>0.14</td>\n",
       "      <td>0.05</td>\n",
       "      <td>2021-03-28</td>\n",
       "    </tr>\n",
       "    <tr>\n",
       "      <th>327</th>\n",
       "      <td>c_328</td>\n",
       "      <td>Female</td>\n",
       "      <td>UK</td>\n",
       "      <td>53</td>\n",
       "      <td>M</td>\n",
       "      <td>S</td>\n",
       "      <td>9.5</td>\n",
       "      <td>-0.01</td>\n",
       "      <td>-0.05</td>\n",
       "      <td>2021-05-24</td>\n",
       "    </tr>\n",
       "    <tr>\n",
       "      <th>839</th>\n",
       "      <td>c_840</td>\n",
       "      <td>Female</td>\n",
       "      <td>UK</td>\n",
       "      <td>31</td>\n",
       "      <td>2XL</td>\n",
       "      <td>2XL</td>\n",
       "      <td>14.5</td>\n",
       "      <td>0.04</td>\n",
       "      <td>0.20</td>\n",
       "      <td>2021-07-30</td>\n",
       "    </tr>\n",
       "    <tr>\n",
       "      <th>300</th>\n",
       "      <td>c_301</td>\n",
       "      <td>Male</td>\n",
       "      <td>USA</td>\n",
       "      <td>36</td>\n",
       "      <td>L</td>\n",
       "      <td>L</td>\n",
       "      <td>11.5</td>\n",
       "      <td>-0.43</td>\n",
       "      <td>0.38</td>\n",
       "      <td>2021-04-13</td>\n",
       "    </tr>\n",
       "    <tr>\n",
       "      <th>306</th>\n",
       "      <td>c_307</td>\n",
       "      <td>Male</td>\n",
       "      <td>Japan</td>\n",
       "      <td>45</td>\n",
       "      <td>L</td>\n",
       "      <td>L</td>\n",
       "      <td>12.0</td>\n",
       "      <td>-0.25</td>\n",
       "      <td>0.24</td>\n",
       "      <td>2021-02-17</td>\n",
       "    </tr>\n",
       "    <tr>\n",
       "      <th>630</th>\n",
       "      <td>c_631</td>\n",
       "      <td>Male</td>\n",
       "      <td>UK</td>\n",
       "      <td>46</td>\n",
       "      <td>L</td>\n",
       "      <td>L</td>\n",
       "      <td>11.0</td>\n",
       "      <td>-0.42</td>\n",
       "      <td>0.21</td>\n",
       "      <td>2021-06-10</td>\n",
       "    </tr>\n",
       "    <tr>\n",
       "      <th>674</th>\n",
       "      <td>c_675</td>\n",
       "      <td>Other</td>\n",
       "      <td>Japan</td>\n",
       "      <td>43</td>\n",
       "      <td>2XL</td>\n",
       "      <td>2XL</td>\n",
       "      <td>14.5</td>\n",
       "      <td>-0.18</td>\n",
       "      <td>0.46</td>\n",
       "      <td>2021-06-12</td>\n",
       "    </tr>\n",
       "    <tr>\n",
       "      <th>290</th>\n",
       "      <td>c_291</td>\n",
       "      <td>Female</td>\n",
       "      <td>USA</td>\n",
       "      <td>48</td>\n",
       "      <td>M</td>\n",
       "      <td>M</td>\n",
       "      <td>9.5</td>\n",
       "      <td>-0.48</td>\n",
       "      <td>0.54</td>\n",
       "      <td>2021-08-05</td>\n",
       "    </tr>\n",
       "    <tr>\n",
       "      <th>625</th>\n",
       "      <td>c_626</td>\n",
       "      <td>Female</td>\n",
       "      <td>USA</td>\n",
       "      <td>30</td>\n",
       "      <td>S</td>\n",
       "      <td>S</td>\n",
       "      <td>8.0</td>\n",
       "      <td>-0.19</td>\n",
       "      <td>0.60</td>\n",
       "      <td>2021-08-21</td>\n",
       "    </tr>\n",
       "    <tr>\n",
       "      <th>363</th>\n",
       "      <td>c_364</td>\n",
       "      <td>Male</td>\n",
       "      <td>USA</td>\n",
       "      <td>36</td>\n",
       "      <td>XL</td>\n",
       "      <td>XL</td>\n",
       "      <td>13.0</td>\n",
       "      <td>-0.44</td>\n",
       "      <td>0.78</td>\n",
       "      <td>2021-11-24</td>\n",
       "    </tr>\n",
       "  </tbody>\n",
       "</table>\n",
       "</div>"
      ],
      "text/plain": [
       "    consumer_id  gender country  age upper_size lower_size  shoe_size  \\\n",
       "206       c_207  Female      UK   25          S         XS        8.0   \n",
       "327       c_328  Female      UK   53          M          S        9.5   \n",
       "839       c_840  Female      UK   31        2XL        2XL       14.5   \n",
       "300       c_301    Male     USA   36          L          L       11.5   \n",
       "306       c_307    Male   Japan   45          L          L       12.0   \n",
       "630       c_631    Male      UK   46          L          L       11.0   \n",
       "674       c_675   Other   Japan   43        2XL        2XL       14.5   \n",
       "290       c_291  Female     USA   48          M          M        9.5   \n",
       "625       c_626  Female     USA   30          S          S        8.0   \n",
       "363       c_364    Male     USA   36         XL         XL       13.0   \n",
       "\n",
       "     consumer_tolerance_too_small  consumer_tolerance_too_large start_date  \n",
       "206                          0.14                          0.05 2021-03-28  \n",
       "327                         -0.01                         -0.05 2021-05-24  \n",
       "839                          0.04                          0.20 2021-07-30  \n",
       "300                         -0.43                          0.38 2021-04-13  \n",
       "306                         -0.25                          0.24 2021-02-17  \n",
       "630                         -0.42                          0.21 2021-06-10  \n",
       "674                         -0.18                          0.46 2021-06-12  \n",
       "290                         -0.48                          0.54 2021-08-05  \n",
       "625                         -0.19                          0.60 2021-08-21  \n",
       "363                         -0.44                          0.78 2021-11-24  "
      ]
     },
     "execution_count": 22,
     "metadata": {},
     "output_type": "execute_result"
    }
   ],
   "source": [
    "consumer_features.sample(10)"
   ]
  },
  {
   "cell_type": "markdown",
   "id": "c0ff5a66-4479-4824-bebc-47a8a0eb778c",
   "metadata": {},
   "source": [
    "### 2.3 Product Data Generation <a id=\"product_data\"></a>\n",
    "This section creates a DataFrame for consumer features including product type, material, and sizing characteristics which influence the fit of the product. It also includes information on the country and section (gender orientation) the products are intended for."
   ]
  },
  {
   "cell_type": "code",
   "execution_count": 24,
   "id": "28ae4ced-9288-4293-ba62-a16cb1e7d5ad",
   "metadata": {},
   "outputs": [],
   "source": [
    "# Parameters\n",
    "\n",
    "# Total number of unique articles\n",
    "n_articles = 1000  "
   ]
  },
  {
   "cell_type": "code",
   "execution_count": 25,
   "id": "69be96a4-b952-4cd8-86e4-964b16337f91",
   "metadata": {},
   "outputs": [],
   "source": [
    "# Define product types and associated materials\n",
    "product_types = ['T-Shirts & Tops', 'Sweatshirts/Hoodies', 'Sportswear', 'Pants & Leggings', 'Jackets', 'Shoes']\n",
    "materials_by_type = {\n",
    "    'T-Shirts & Tops': (['Cotton', 'Recycled Polyester', 'Polyester'], [0.5, 0.3, 0.2]),\n",
    "    'Sweatshirts/Hoodies': (['Cotton', 'Recycled Polyester', 'Polyester'], [0.6, 0.3, 0.1]),\n",
    "    'Sportswear': (['Aeroready Technology', 'Recycled Polyester', 'Spandex'], [0.5, 0.3, 0.2]),\n",
    "    'Pants & Leggings': (['Polyester', 'Spandex', 'Recycled Polyester', 'Nylon'], [0.5, 0.2, 0.2, 0.1]),\n",
    "    'Jackets': (['Polyester', 'Recycled Polyester', 'Nylon', 'Primeknit'], [0.5, 0.3, 0.1, 0.1]),\n",
    "    'Shoes': (['Primeknit', 'Recycled Polyester', 'Parley Ocean Plastic'], [0.5, 0.3, 0.2])\n",
    "}"
   ]
  },
  {
   "cell_type": "code",
   "execution_count": 26,
   "id": "749439ce-07e2-47e8-95fe-c7babb35a1e4",
   "metadata": {},
   "outputs": [],
   "source": [
    "# Define fit types and sizing accuracy\n",
    "fit_types = ['slim', 'regular', 'loose']\n",
    "size_accuracy = ['runs small', 'true to size', 'runs large']"
   ]
  },
  {
   "cell_type": "code",
   "execution_count": 27,
   "id": "44aa7249-dbc3-4f95-a202-5421ff5c6b1e",
   "metadata": {},
   "outputs": [],
   "source": [
    "def assign_countries():\n",
    "\n",
    "    \"\"\"\n",
    "    Assigns each article to 1-3 randomly selected countries where it is available.\n",
    "\n",
    "    Returns:\n",
    "    - A list of randomly selected country names from the predefined 'countries' list.\n",
    "    \"\"\"\n",
    "    \n",
    "    # Select the number of countries for an article\n",
    "    num_countries = np.random.choice([1, 2, 3], p = [0.5, 0.3, 0.2])\n",
    "    \n",
    "    # Select random countries\n",
    "    available_countries = list(np.random.choice(countries, size = num_countries, replace = False))\n",
    "    \n",
    "    return available_countries"
   ]
  },
  {
   "cell_type": "code",
   "execution_count": 28,
   "id": "fa0e2934-8e99-4039-85f0-f7070f1a3eb3",
   "metadata": {},
   "outputs": [],
   "source": [
    "def select_material(product_type):\n",
    "\n",
    "    \"\"\"\n",
    "    Selects a material for a given product type based on predefined probabilities.\n",
    "    \n",
    "    Parameters:\n",
    "    - product_type: Type of the product for which material needs to be selected.\n",
    "    \n",
    "    Returns:\n",
    "    - A selected material as a string.\n",
    "    \"\"\"\n",
    "\n",
    "    # Extract materials and probabilities for the specific product type\n",
    "    materials, probs = materials_by_type[product_type]\n",
    "    \n",
    "    # Select a random material\n",
    "    selected_material = np.random.choice(materials, p = probs)\n",
    "    \n",
    "    return selected_material"
   ]
  },
  {
   "cell_type": "code",
   "execution_count": 29,
   "id": "7574e909-7e8d-414c-a3ff-820a42742e39",
   "metadata": {},
   "outputs": [],
   "source": [
    "# Function to assign a variable fit offset based on both fit type and size accuracy\n",
    "def assign_fit_offset(row):\n",
    "\n",
    "    \"\"\"\n",
    "    Assigns a fit offset to a product based on its fit type, size accuracy, material, country and gender.\n",
    "    \n",
    "    Parameters:\n",
    "    - row: DataFrame row containing product information.\n",
    "    \n",
    "    Returns:\n",
    "    - A numerical fit offset that affects how the product fits.\n",
    "    \"\"\"\n",
    "    \n",
    "    # Define adjustments by fit type with random variability\n",
    "    fit_type_offsets = {\n",
    "        'slim': np.random.uniform(-0.6, -0.4),  # Slim fits tend to be tighter\n",
    "        'regular': np.random.uniform(-0.2, 0.2),  # Regular fits are around standard\n",
    "        'loose': np.random.uniform(0.4, 0.6)   # Loose fits offer more room\n",
    "    }\n",
    "    fit_offset = fit_type_offsets[row['fit_type']]\n",
    "\n",
    "    # Define adjustments by size accuracy with random variability\n",
    "    size_accuracy_offsets = {\n",
    "        'runs small': np.random.uniform(-0.6, -0.4),  # Size smaller than expected\n",
    "        'true to size': np.random.uniform(-0.2, 0.2),   # Size as expected\n",
    "        'runs large': np.random.uniform(0.4, 0.6)    # Size larger than expected\n",
    "    }\n",
    "    acccuracy_offset = size_accuracy_offsets[row['size_accuracy']]\n",
    "\n",
    "    # Define material influence on fit\n",
    "    material_fit_influence = {\n",
    "        'Cotton': -0.1,\n",
    "        'Recycled Polyester': -0.05,\n",
    "        'Polyester': 0,\n",
    "        'Spandex': 0.2,\n",
    "        'Aeroready Technology': 0.1,\n",
    "        'Nylon': 0.15,\n",
    "        'Primeknit': 0.2,\n",
    "        'Parley Ocean Plastic': 0.1\n",
    "    }\n",
    "    material_influence = material_fit_influence.get(row['material'], 0)\n",
    "\n",
    "    # Define gender adjustment\n",
    "    gender_adjustments = {\n",
    "        \"Male\": 0.1,  # Slightly larger fit for males\n",
    "        \"Female\": -0.1,  # Slightly smaller fit for females\n",
    "        \"Other\": 0.0,  # No adjustment for other genders\n",
    "    }\n",
    "    section_offset = gender_adjustments[row['section']]\n",
    "\n",
    "    # Calculate total offset by combining all dimensions\n",
    "    total_offset = fit_offset + acccuracy_offset + material_influence + section_offset\n",
    "    \n",
    "    return round(total_offset, 2)"
   ]
  },
  {
   "cell_type": "code",
   "execution_count": 30,
   "id": "66595181-0469-4a39-a8ea-bc378e2091a7",
   "metadata": {},
   "outputs": [],
   "source": [
    "# Generate article features\n",
    "article_features = pd.DataFrame({\n",
    "    'article_id': [f'a_{i}' for i in range(1, n_articles + 1)],\n",
    "    'section': np.random.choice(genders, size = n_articles),\n",
    "    'product_type': np.random.choice(product_types, size = n_articles),\n",
    "    'fit_type': np.random.choice(fit_types, size = n_articles, p =[ 0.3, 0.4, 0.3]),\n",
    "    'size_accuracy': np.random.choice(size_accuracy, size = n_articles, p = [0.1, 0.8, 0.1])\n",
    "})"
   ]
  },
  {
   "cell_type": "code",
   "execution_count": 31,
   "id": "a940ca2a-b148-46a1-9a6a-d49b551dbbf7",
   "metadata": {},
   "outputs": [],
   "source": [
    "# Assign each article to multiple countries\n",
    "article_features['available_countries'] = article_features.apply(lambda _: assign_countries(), axis=1)"
   ]
  },
  {
   "cell_type": "code",
   "execution_count": 32,
   "id": "7f07bd5e-1d5a-4a6b-ba9f-4bd9b6a6ee3d",
   "metadata": {},
   "outputs": [],
   "source": [
    "# Assign material to each product based on its type\n",
    "article_features['material'] = article_features['product_type'].apply(select_material)"
   ]
  },
  {
   "cell_type": "code",
   "execution_count": 33,
   "id": "205f54a5-260f-42cc-9ae2-cd235539ad9a",
   "metadata": {},
   "outputs": [],
   "source": [
    "# Update article features with combined fit_offset\n",
    "article_features['fit_offset'] = article_features.apply(assign_fit_offset, axis = 1)"
   ]
  },
  {
   "cell_type": "code",
   "execution_count": 34,
   "id": "98ed51a5-0645-41c1-9a75-81152644158a",
   "metadata": {},
   "outputs": [
    {
     "data": {
      "text/html": [
       "<div>\n",
       "<style scoped>\n",
       "    .dataframe tbody tr th:only-of-type {\n",
       "        vertical-align: middle;\n",
       "    }\n",
       "\n",
       "    .dataframe tbody tr th {\n",
       "        vertical-align: top;\n",
       "    }\n",
       "\n",
       "    .dataframe thead th {\n",
       "        text-align: right;\n",
       "    }\n",
       "</style>\n",
       "<table border=\"1\" class=\"dataframe\">\n",
       "  <thead>\n",
       "    <tr style=\"text-align: right;\">\n",
       "      <th></th>\n",
       "      <th>article_id</th>\n",
       "      <th>section</th>\n",
       "      <th>product_type</th>\n",
       "      <th>fit_type</th>\n",
       "      <th>size_accuracy</th>\n",
       "      <th>available_countries</th>\n",
       "      <th>material</th>\n",
       "      <th>fit_offset</th>\n",
       "    </tr>\n",
       "  </thead>\n",
       "  <tbody>\n",
       "    <tr>\n",
       "      <th>976</th>\n",
       "      <td>a_977</td>\n",
       "      <td>Female</td>\n",
       "      <td>T-Shirts &amp; Tops</td>\n",
       "      <td>regular</td>\n",
       "      <td>runs large</td>\n",
       "      <td>[UK]</td>\n",
       "      <td>Recycled Polyester</td>\n",
       "      <td>0.15</td>\n",
       "    </tr>\n",
       "    <tr>\n",
       "      <th>392</th>\n",
       "      <td>a_393</td>\n",
       "      <td>Male</td>\n",
       "      <td>Sweatshirts/Hoodies</td>\n",
       "      <td>regular</td>\n",
       "      <td>runs large</td>\n",
       "      <td>[Germany]</td>\n",
       "      <td>Cotton</td>\n",
       "      <td>0.50</td>\n",
       "    </tr>\n",
       "    <tr>\n",
       "      <th>459</th>\n",
       "      <td>a_460</td>\n",
       "      <td>Other</td>\n",
       "      <td>Sportswear</td>\n",
       "      <td>loose</td>\n",
       "      <td>true to size</td>\n",
       "      <td>[USA, UK]</td>\n",
       "      <td>Aeroready Technology</td>\n",
       "      <td>0.66</td>\n",
       "    </tr>\n",
       "    <tr>\n",
       "      <th>246</th>\n",
       "      <td>a_247</td>\n",
       "      <td>Female</td>\n",
       "      <td>T-Shirts &amp; Tops</td>\n",
       "      <td>regular</td>\n",
       "      <td>true to size</td>\n",
       "      <td>[Germany]</td>\n",
       "      <td>Cotton</td>\n",
       "      <td>-0.07</td>\n",
       "    </tr>\n",
       "    <tr>\n",
       "      <th>797</th>\n",
       "      <td>a_798</td>\n",
       "      <td>Other</td>\n",
       "      <td>Sweatshirts/Hoodies</td>\n",
       "      <td>slim</td>\n",
       "      <td>true to size</td>\n",
       "      <td>[UK, Japan]</td>\n",
       "      <td>Recycled Polyester</td>\n",
       "      <td>-0.49</td>\n",
       "    </tr>\n",
       "    <tr>\n",
       "      <th>853</th>\n",
       "      <td>a_854</td>\n",
       "      <td>Other</td>\n",
       "      <td>T-Shirts &amp; Tops</td>\n",
       "      <td>loose</td>\n",
       "      <td>true to size</td>\n",
       "      <td>[USA]</td>\n",
       "      <td>Polyester</td>\n",
       "      <td>0.37</td>\n",
       "    </tr>\n",
       "    <tr>\n",
       "      <th>753</th>\n",
       "      <td>a_754</td>\n",
       "      <td>Female</td>\n",
       "      <td>Pants &amp; Leggings</td>\n",
       "      <td>regular</td>\n",
       "      <td>runs large</td>\n",
       "      <td>[Germany]</td>\n",
       "      <td>Recycled Polyester</td>\n",
       "      <td>0.54</td>\n",
       "    </tr>\n",
       "    <tr>\n",
       "      <th>594</th>\n",
       "      <td>a_595</td>\n",
       "      <td>Male</td>\n",
       "      <td>Sportswear</td>\n",
       "      <td>regular</td>\n",
       "      <td>true to size</td>\n",
       "      <td>[USA, Germany]</td>\n",
       "      <td>Spandex</td>\n",
       "      <td>0.37</td>\n",
       "    </tr>\n",
       "    <tr>\n",
       "      <th>525</th>\n",
       "      <td>a_526</td>\n",
       "      <td>Female</td>\n",
       "      <td>Pants &amp; Leggings</td>\n",
       "      <td>regular</td>\n",
       "      <td>true to size</td>\n",
       "      <td>[USA]</td>\n",
       "      <td>Nylon</td>\n",
       "      <td>-0.23</td>\n",
       "    </tr>\n",
       "    <tr>\n",
       "      <th>437</th>\n",
       "      <td>a_438</td>\n",
       "      <td>Male</td>\n",
       "      <td>Jackets</td>\n",
       "      <td>slim</td>\n",
       "      <td>true to size</td>\n",
       "      <td>[USA, Germany, UK]</td>\n",
       "      <td>Nylon</td>\n",
       "      <td>-0.24</td>\n",
       "    </tr>\n",
       "  </tbody>\n",
       "</table>\n",
       "</div>"
      ],
      "text/plain": [
       "    article_id section         product_type fit_type size_accuracy  \\\n",
       "976      a_977  Female      T-Shirts & Tops  regular    runs large   \n",
       "392      a_393    Male  Sweatshirts/Hoodies  regular    runs large   \n",
       "459      a_460   Other           Sportswear    loose  true to size   \n",
       "246      a_247  Female      T-Shirts & Tops  regular  true to size   \n",
       "797      a_798   Other  Sweatshirts/Hoodies     slim  true to size   \n",
       "853      a_854   Other      T-Shirts & Tops    loose  true to size   \n",
       "753      a_754  Female     Pants & Leggings  regular    runs large   \n",
       "594      a_595    Male           Sportswear  regular  true to size   \n",
       "525      a_526  Female     Pants & Leggings  regular  true to size   \n",
       "437      a_438    Male              Jackets     slim  true to size   \n",
       "\n",
       "    available_countries              material  fit_offset  \n",
       "976                [UK]    Recycled Polyester        0.15  \n",
       "392           [Germany]                Cotton        0.50  \n",
       "459           [USA, UK]  Aeroready Technology        0.66  \n",
       "246           [Germany]                Cotton       -0.07  \n",
       "797         [UK, Japan]    Recycled Polyester       -0.49  \n",
       "853               [USA]             Polyester        0.37  \n",
       "753           [Germany]    Recycled Polyester        0.54  \n",
       "594      [USA, Germany]               Spandex        0.37  \n",
       "525               [USA]                 Nylon       -0.23  \n",
       "437  [USA, Germany, UK]                 Nylon       -0.24  "
      ]
     },
     "execution_count": 34,
     "metadata": {},
     "output_type": "execute_result"
    }
   ],
   "source": [
    "article_features.sample(10)"
   ]
  },
  {
   "cell_type": "markdown",
   "id": "79775e9b-f01c-4ede-a4c1-0fe05b5108cb",
   "metadata": {},
   "source": [
    "### 2.4 Transaction Data Generation <a id=\"transaction_data\"></a>\n",
    "\n",
    "This section create the transaction DataFrame which simulates consumer purchases. The process involves generating a realistic number of purchases for each consumer, determining the purchase dates to simulate sequential transactions, sampling a purchased size based on consumer preferences, and calculating the fit outcome based on the product and consumer characteristics."
   ]
  },
  {
   "cell_type": "code",
   "execution_count": 36,
   "id": "1dd483b8-e148-4950-b1b7-1909b2c768dd",
   "metadata": {},
   "outputs": [],
   "source": [
    "def generate_purchases(max_purchases = 3000):\n",
    "    \n",
    "    \"\"\"\n",
    "    Generates a realistic number of purchases for a consumer based on a truncated normal distribution.\n",
    "    \n",
    "    Parameters:\n",
    "    - max_purchases: The maximum number of purchases allowed.\n",
    "    \n",
    "    Returns:\n",
    "    - An integer representing the number of purchases.\n",
    "    \"\"\"\n",
    "    \n",
    "    mean = 5\n",
    "    std_dev = 2.0\n",
    "    lower, upper = 1, max_purchases\n",
    "    a, b = (lower - mean) / std_dev, (upper - mean) / std_dev\n",
    "    base_sample = truncnorm(a, b, loc = mean, scale = std_dev).rvs()\n",
    "    purchases = int(round(base_sample))\n",
    "    \n",
    "    # Ensure the number is within the valid range\n",
    "    purchases = max(lower, min(purchases, upper))\n",
    "\n",
    "    # Adjust purchase number occasionally\n",
    "    if purchases != 1 and np.random.rand() < 0.1:\n",
    "        purchases = 1\n",
    "        \n",
    "    return purchases"
   ]
  },
  {
   "cell_type": "code",
   "execution_count": 37,
   "id": "9556fda3-d184-4a45-8358-5a1abf60a458",
   "metadata": {},
   "outputs": [],
   "source": [
    "def generate_sequential_purchases(start_date, num_purchases):\n",
    "\n",
    "    \"\"\"\n",
    "    Generates sequential purchase dates for a given number of purchases starting from a specified date.\n",
    "    \n",
    "    Parameters:\n",
    "    - start_date: The date of the first purchase.\n",
    "    - num_purchases: The total number of purchases to generate dates for.\n",
    "    \n",
    "    Returns:\n",
    "    - A list of datetime objects representing the dates of each purchase.\n",
    "    \"\"\"\n",
    "    \n",
    "    purchase_dates = []\n",
    "    \n",
    "    for _ in range(num_purchases):\n",
    "        \n",
    "        # Days between purchases\n",
    "        days_between_purchases = np.random.randint(1, 90)  # Randomized days between purchases\n",
    "        \n",
    "        # Calculate purchase date\n",
    "        purchase_date = start_date + timedelta(days = days_between_purchases)\n",
    "        purchase_dates.append(purchase_date)\n",
    "        \n",
    "        # Update start date for the next purchase\n",
    "        start_date = purchase_date\n",
    "        \n",
    "    return purchase_dates"
   ]
  },
  {
   "cell_type": "code",
   "execution_count": 38,
   "id": "3236b84e-70bb-4baf-ad65-147e04e97f75",
   "metadata": {},
   "outputs": [],
   "source": [
    "def sample_purchased_size(consumer, product_type):\n",
    "    \n",
    "    \"\"\"\n",
    "    Samples a purchased size around the consumer's true size with a realistic distribution based on the product type.\n",
    "    \n",
    "    Parameters:\n",
    "    - consumer: The consumer data row.\n",
    "    - product_type: The type of product being purchased.\n",
    "    \n",
    "    Returns:\n",
    "    - A string or number representing the purchased size.\n",
    "    \"\"\"\n",
    "    \n",
    "    # Determine the size type to use based on the product type\n",
    "    if 'Shoes' in product_type:\n",
    "        size_list = shoe_sizes\n",
    "        true_size = consumer['shoe_size']\n",
    "    elif 'Pants & Leggings' in product_type:\n",
    "        size_list = sizes\n",
    "        true_size = consumer['lower_size']\n",
    "    else:\n",
    "        size_list = sizes\n",
    "        true_size = consumer['upper_size']\n",
    "    \n",
    "    # Get the current index of the true size within the size list\n",
    "    current_index = np.where(np.array(size_list) == true_size)[0][0]\n",
    "    \n",
    "    # Choose a size variation\n",
    "    size_variation = np.random.choice([-1, 0, 1], p = [0.15, 0.7, 0.15])  # Mostly buys true size, sometimes one size off\n",
    "    \n",
    "    # Calculate the new index\n",
    "    new_index = current_index + size_variation\n",
    "    \n",
    "    # Make sure the size is within a valid range\n",
    "    if new_index > (len(size_list) - 1):\n",
    "        return size_list[len(size_list) - 1]\n",
    "    elif new_index < 0:\n",
    "        return size_list[0]\n",
    "    else:\n",
    "        return size_list[new_index]"
   ]
  },
  {
   "cell_type": "code",
   "execution_count": 39,
   "id": "23e344aa-3035-48f1-8b1a-2ea881692486",
   "metadata": {},
   "outputs": [],
   "source": [
    "# Function to simulate a transaction and calculate fit outcome\n",
    "def calculate_fit(consumer, product_type, purchased_size):\n",
    "    \n",
    "    \"\"\"\n",
    "    Calculates the fit outcome based on consumer tolerance and article fit offset.\n",
    "    \n",
    "    Parameters:\n",
    "    - consumer: The consumer data row.\n",
    "    - product_type: The type of product being evaluated.\n",
    "    - purchased_size: The size that was purchased by the consumer.\n",
    "    \n",
    "    Returns:\n",
    "    - A string indicating the fit outcome ('too small', 'too large', 'fit', 'not applicable').\n",
    "    \"\"\"\n",
    "\n",
    "    size_mapping = {'2XS': 1, 'XS': 2, 'S': 3, 'M': 4, 'L': 5, 'XL': 6, '2XL': 7}\n",
    "    \n",
    "    # Determine the size type to use based on the product type\n",
    "    if 'Shoes' in product_type:\n",
    "        true_size = consumer['shoe_size']\n",
    "    elif 'Pants & Leggings' in product_type:\n",
    "        size_list = size_mapping\n",
    "        true_size = size_mapping[consumer['lower_size']]\n",
    "    else:\n",
    "        size_list = size_mapping\n",
    "        true_size = size_mapping[consumer['upper_size']]\n",
    "\n",
    "    # Convert purchased size to numerical value if it's a string\n",
    "    if isinstance(purchased_size, str):\n",
    "        purchased_size = size_mapping[purchased_size]\n",
    "\n",
    "    # Fit offset and tolerances as numerical adjustments\n",
    "    tolerance_too_small = consumer['consumer_tolerance_too_small']\n",
    "    tolerance_too_large = consumer['consumer_tolerance_too_large']\n",
    "    fit_offset = article['fit_offset']\n",
    "    \n",
    "    # Calculate the adjusted true size with the fit offset\n",
    "    adjusted_size = true_size + fit_offset\n",
    "\n",
    "    # Determine fit outcome based on numerical comparisons\n",
    "    if purchased_size < adjusted_size + tolerance_too_small:\n",
    "        return \"too small\"\n",
    "    elif purchased_size > adjusted_size + tolerance_too_large:\n",
    "        return \"too large\"\n",
    "    elif (true_size +  tolerance_too_large > purchased_size + fit_offset) & (true_size + tolerance_too_small < purchased_size + fit_offset):\n",
    "        return \"fit\"\n",
    "    return \"not applicable\""
   ]
  },
  {
   "cell_type": "code",
   "execution_count": 40,
   "id": "c3663959-9593-481d-88a0-dc29c167727b",
   "metadata": {},
   "outputs": [],
   "source": [
    "# Generate transactions\n",
    "transactions = []\n",
    "for idx, consumer in consumer_features.iterrows():\n",
    "\n",
    "    # Get the customer's number of purchases and their dates\n",
    "    num_purchases = generate_purchases()\n",
    "    purchase_dates = generate_sequential_purchases(consumer['start_date'], num_purchases)\n",
    "\n",
    "    # Iterate through the purchases\n",
    "    for purchase_date in purchase_dates:\n",
    "\n",
    "        # Filter articles available in the consumer's country\n",
    "        available_articles = article_features[article_features['available_countries'].apply(lambda x: consumer['country'] in x)]\n",
    "        \n",
    "        # Randomly select an article\n",
    "        article = available_articles.sample(1).iloc[0]\n",
    "        product_type = article['product_type']\n",
    "\n",
    "        # Get the pourchased size and fit outcome\n",
    "        purchased_size = sample_purchased_size(consumer, product_type)\n",
    "        fit_outcome = calculate_fit(consumer, product_type, purchased_size)\n",
    "        \n",
    "        transactions.append({\n",
    "            'consumer_id': consumer['consumer_id'],\n",
    "            'article_id': article['article_id'],\n",
    "            'purchased_size': purchased_size,\n",
    "            'fit_outcome': fit_outcome,\n",
    "            'transaction_date': purchase_date\n",
    "        })\n",
    "\n",
    "# Create DataFrame from transactions\n",
    "transaction_df = pd.DataFrame(transactions)"
   ]
  },
  {
   "cell_type": "code",
   "execution_count": 41,
   "id": "aa9e3c36-dfa9-4600-988e-10a10cbd8741",
   "metadata": {},
   "outputs": [
    {
     "data": {
      "text/html": [
       "<div>\n",
       "<style scoped>\n",
       "    .dataframe tbody tr th:only-of-type {\n",
       "        vertical-align: middle;\n",
       "    }\n",
       "\n",
       "    .dataframe tbody tr th {\n",
       "        vertical-align: top;\n",
       "    }\n",
       "\n",
       "    .dataframe thead th {\n",
       "        text-align: right;\n",
       "    }\n",
       "</style>\n",
       "<table border=\"1\" class=\"dataframe\">\n",
       "  <thead>\n",
       "    <tr style=\"text-align: right;\">\n",
       "      <th></th>\n",
       "      <th>consumer_id</th>\n",
       "      <th>article_id</th>\n",
       "      <th>purchased_size</th>\n",
       "      <th>fit_outcome</th>\n",
       "      <th>transaction_date</th>\n",
       "    </tr>\n",
       "  </thead>\n",
       "  <tbody>\n",
       "    <tr>\n",
       "      <th>1771</th>\n",
       "      <td>c_380</td>\n",
       "      <td>a_239</td>\n",
       "      <td>L</td>\n",
       "      <td>too small</td>\n",
       "      <td>2022-01-24</td>\n",
       "    </tr>\n",
       "    <tr>\n",
       "      <th>1921</th>\n",
       "      <td>c_411</td>\n",
       "      <td>a_623</td>\n",
       "      <td>S</td>\n",
       "      <td>fit</td>\n",
       "      <td>2022-11-17</td>\n",
       "    </tr>\n",
       "    <tr>\n",
       "      <th>1474</th>\n",
       "      <td>c_314</td>\n",
       "      <td>a_131</td>\n",
       "      <td>2XL</td>\n",
       "      <td>too small</td>\n",
       "      <td>2022-05-13</td>\n",
       "    </tr>\n",
       "    <tr>\n",
       "      <th>4066</th>\n",
       "      <td>c_873</td>\n",
       "      <td>a_581</td>\n",
       "      <td>M</td>\n",
       "      <td>not applicable</td>\n",
       "      <td>2022-10-03</td>\n",
       "    </tr>\n",
       "    <tr>\n",
       "      <th>792</th>\n",
       "      <td>c_170</td>\n",
       "      <td>a_701</td>\n",
       "      <td>S</td>\n",
       "      <td>too small</td>\n",
       "      <td>2022-07-29</td>\n",
       "    </tr>\n",
       "    <tr>\n",
       "      <th>1419</th>\n",
       "      <td>c_305</td>\n",
       "      <td>a_645</td>\n",
       "      <td>M</td>\n",
       "      <td>too small</td>\n",
       "      <td>2021-10-22</td>\n",
       "    </tr>\n",
       "    <tr>\n",
       "      <th>3901</th>\n",
       "      <td>c_841</td>\n",
       "      <td>a_921</td>\n",
       "      <td>L</td>\n",
       "      <td>not applicable</td>\n",
       "      <td>2021-08-20</td>\n",
       "    </tr>\n",
       "    <tr>\n",
       "      <th>675</th>\n",
       "      <td>c_145</td>\n",
       "      <td>a_111</td>\n",
       "      <td>M</td>\n",
       "      <td>not applicable</td>\n",
       "      <td>2022-02-14</td>\n",
       "    </tr>\n",
       "    <tr>\n",
       "      <th>22</th>\n",
       "      <td>c_6</td>\n",
       "      <td>a_309</td>\n",
       "      <td>XL</td>\n",
       "      <td>too large</td>\n",
       "      <td>2021-04-06</td>\n",
       "    </tr>\n",
       "    <tr>\n",
       "      <th>3983</th>\n",
       "      <td>c_858</td>\n",
       "      <td>a_257</td>\n",
       "      <td>S</td>\n",
       "      <td>not applicable</td>\n",
       "      <td>2021-12-12</td>\n",
       "    </tr>\n",
       "  </tbody>\n",
       "</table>\n",
       "</div>"
      ],
      "text/plain": [
       "     consumer_id article_id purchased_size     fit_outcome transaction_date\n",
       "1771       c_380      a_239              L       too small       2022-01-24\n",
       "1921       c_411      a_623              S             fit       2022-11-17\n",
       "1474       c_314      a_131            2XL       too small       2022-05-13\n",
       "4066       c_873      a_581              M  not applicable       2022-10-03\n",
       "792        c_170      a_701              S       too small       2022-07-29\n",
       "1419       c_305      a_645              M       too small       2021-10-22\n",
       "3901       c_841      a_921              L  not applicable       2021-08-20\n",
       "675        c_145      a_111              M  not applicable       2022-02-14\n",
       "22           c_6      a_309             XL       too large       2021-04-06\n",
       "3983       c_858      a_257              S  not applicable       2021-12-12"
      ]
     },
     "execution_count": 41,
     "metadata": {},
     "output_type": "execute_result"
    }
   ],
   "source": [
    "transaction_df.sample(10)"
   ]
  },
  {
   "cell_type": "markdown",
   "id": "64b82cff-768e-4d14-969e-1fcd79d39043",
   "metadata": {},
   "source": [
    "***"
   ]
  },
  {
   "cell_type": "markdown",
   "id": "c7ab3a2f-7546-4e26-8045-f3a668a4ae71",
   "metadata": {},
   "source": [
    "## 3 Data Exploration <a id=\"data_exploration\"></a>\n",
    "\n",
    "This section includes visualizations to explore and better understand the data."
   ]
  },
  {
   "cell_type": "markdown",
   "id": "990eea8f-0cc6-46b8-83b9-2965cd2a00b2",
   "metadata": {},
   "source": [
    "### 3.1 Consumer Data <a id=\"consumer_data_viz\"></a>"
   ]
  },
  {
   "cell_type": "markdown",
   "id": "29e80810-4ff5-4e38-9940-d8ea825286d2",
   "metadata": {},
   "source": [
    "#### Descriptive Statistics"
   ]
  },
  {
   "cell_type": "code",
   "execution_count": 46,
   "id": "752029d8-612e-4c0a-b6a9-26c45f2519b0",
   "metadata": {},
   "outputs": [
    {
     "name": "stdout",
     "output_type": "stream",
     "text": [
      "<class 'pandas.core.frame.DataFrame'>\n",
      "RangeIndex: 1000 entries, 0 to 999\n",
      "Data columns (total 10 columns):\n",
      " #   Column                        Non-Null Count  Dtype         \n",
      "---  ------                        --------------  -----         \n",
      " 0   consumer_id                   1000 non-null   object        \n",
      " 1   gender                        1000 non-null   object        \n",
      " 2   country                       1000 non-null   object        \n",
      " 3   age                           1000 non-null   int64         \n",
      " 4   upper_size                    1000 non-null   object        \n",
      " 5   lower_size                    1000 non-null   object        \n",
      " 6   shoe_size                     1000 non-null   float64       \n",
      " 7   consumer_tolerance_too_small  1000 non-null   float64       \n",
      " 8   consumer_tolerance_too_large  1000 non-null   float64       \n",
      " 9   start_date                    1000 non-null   datetime64[ns]\n",
      "dtypes: datetime64[ns](1), float64(3), int64(1), object(5)\n",
      "memory usage: 78.3+ KB\n"
     ]
    }
   ],
   "source": [
    "consumer_features.info()"
   ]
  },
  {
   "cell_type": "code",
   "execution_count": 47,
   "id": "50dd994d-04df-4a94-9311-27195e92bd14",
   "metadata": {},
   "outputs": [
    {
     "data": {
      "text/html": [
       "<div>\n",
       "<style scoped>\n",
       "    .dataframe tbody tr th:only-of-type {\n",
       "        vertical-align: middle;\n",
       "    }\n",
       "\n",
       "    .dataframe tbody tr th {\n",
       "        vertical-align: top;\n",
       "    }\n",
       "\n",
       "    .dataframe thead th {\n",
       "        text-align: right;\n",
       "    }\n",
       "</style>\n",
       "<table border=\"1\" class=\"dataframe\">\n",
       "  <thead>\n",
       "    <tr style=\"text-align: right;\">\n",
       "      <th></th>\n",
       "      <th>age</th>\n",
       "      <th>shoe_size</th>\n",
       "      <th>consumer_tolerance_too_small</th>\n",
       "      <th>consumer_tolerance_too_large</th>\n",
       "      <th>start_date</th>\n",
       "    </tr>\n",
       "  </thead>\n",
       "  <tbody>\n",
       "    <tr>\n",
       "      <th>count</th>\n",
       "      <td>1000.000000</td>\n",
       "      <td>1000.000000</td>\n",
       "      <td>1000.000000</td>\n",
       "      <td>1000.000000</td>\n",
       "      <td>1000</td>\n",
       "    </tr>\n",
       "    <tr>\n",
       "      <th>mean</th>\n",
       "      <td>34.966000</td>\n",
       "      <td>10.621500</td>\n",
       "      <td>-0.258720</td>\n",
       "      <td>0.330660</td>\n",
       "      <td>2021-07-05 04:58:04.800000</td>\n",
       "    </tr>\n",
       "    <tr>\n",
       "      <th>min</th>\n",
       "      <td>18.000000</td>\n",
       "      <td>4.500000</td>\n",
       "      <td>-0.700000</td>\n",
       "      <td>-0.200000</td>\n",
       "      <td>2021-01-01 00:00:00</td>\n",
       "    </tr>\n",
       "    <tr>\n",
       "      <th>25%</th>\n",
       "      <td>28.000000</td>\n",
       "      <td>9.000000</td>\n",
       "      <td>-0.390000</td>\n",
       "      <td>0.150000</td>\n",
       "      <td>2021-04-08 18:00:00</td>\n",
       "    </tr>\n",
       "    <tr>\n",
       "      <th>50%</th>\n",
       "      <td>35.000000</td>\n",
       "      <td>10.500000</td>\n",
       "      <td>-0.250000</td>\n",
       "      <td>0.330000</td>\n",
       "      <td>2021-07-07 12:00:00</td>\n",
       "    </tr>\n",
       "    <tr>\n",
       "      <th>75%</th>\n",
       "      <td>41.000000</td>\n",
       "      <td>12.500000</td>\n",
       "      <td>-0.120000</td>\n",
       "      <td>0.510000</td>\n",
       "      <td>2021-09-30 00:00:00</td>\n",
       "    </tr>\n",
       "    <tr>\n",
       "      <th>max</th>\n",
       "      <td>65.000000</td>\n",
       "      <td>14.500000</td>\n",
       "      <td>0.200000</td>\n",
       "      <td>0.850000</td>\n",
       "      <td>2021-12-31 00:00:00</td>\n",
       "    </tr>\n",
       "    <tr>\n",
       "      <th>std</th>\n",
       "      <td>9.578026</td>\n",
       "      <td>2.379843</td>\n",
       "      <td>0.189821</td>\n",
       "      <td>0.233638</td>\n",
       "      <td>NaN</td>\n",
       "    </tr>\n",
       "  </tbody>\n",
       "</table>\n",
       "</div>"
      ],
      "text/plain": [
       "               age    shoe_size  consumer_tolerance_too_small  \\\n",
       "count  1000.000000  1000.000000                   1000.000000   \n",
       "mean     34.966000    10.621500                     -0.258720   \n",
       "min      18.000000     4.500000                     -0.700000   \n",
       "25%      28.000000     9.000000                     -0.390000   \n",
       "50%      35.000000    10.500000                     -0.250000   \n",
       "75%      41.000000    12.500000                     -0.120000   \n",
       "max      65.000000    14.500000                      0.200000   \n",
       "std       9.578026     2.379843                      0.189821   \n",
       "\n",
       "       consumer_tolerance_too_large                  start_date  \n",
       "count                   1000.000000                        1000  \n",
       "mean                       0.330660  2021-07-05 04:58:04.800000  \n",
       "min                       -0.200000         2021-01-01 00:00:00  \n",
       "25%                        0.150000         2021-04-08 18:00:00  \n",
       "50%                        0.330000         2021-07-07 12:00:00  \n",
       "75%                        0.510000         2021-09-30 00:00:00  \n",
       "max                        0.850000         2021-12-31 00:00:00  \n",
       "std                        0.233638                         NaN  "
      ]
     },
     "execution_count": 47,
     "metadata": {},
     "output_type": "execute_result"
    }
   ],
   "source": [
    "consumer_features.describe()"
   ]
  },
  {
   "cell_type": "code",
   "execution_count": 48,
   "id": "00a11068-3abc-4618-bc89-3f5a9e474aaa",
   "metadata": {},
   "outputs": [
    {
     "data": {
      "text/html": [
       "<div>\n",
       "<style scoped>\n",
       "    .dataframe tbody tr th:only-of-type {\n",
       "        vertical-align: middle;\n",
       "    }\n",
       "\n",
       "    .dataframe tbody tr th {\n",
       "        vertical-align: top;\n",
       "    }\n",
       "\n",
       "    .dataframe thead th {\n",
       "        text-align: right;\n",
       "    }\n",
       "</style>\n",
       "<table border=\"1\" class=\"dataframe\">\n",
       "  <thead>\n",
       "    <tr style=\"text-align: right;\">\n",
       "      <th></th>\n",
       "      <th>consumer_id</th>\n",
       "      <th>gender</th>\n",
       "      <th>country</th>\n",
       "      <th>age</th>\n",
       "      <th>upper_size</th>\n",
       "      <th>lower_size</th>\n",
       "      <th>shoe_size</th>\n",
       "      <th>consumer_tolerance_too_small</th>\n",
       "      <th>consumer_tolerance_too_large</th>\n",
       "      <th>start_date</th>\n",
       "    </tr>\n",
       "  </thead>\n",
       "  <tbody>\n",
       "    <tr>\n",
       "      <th>0</th>\n",
       "      <td>c_1</td>\n",
       "      <td>Female</td>\n",
       "      <td>UK</td>\n",
       "      <td>43</td>\n",
       "      <td>XS</td>\n",
       "      <td>XS</td>\n",
       "      <td>6.5</td>\n",
       "      <td>-0.20</td>\n",
       "      <td>0.21</td>\n",
       "      <td>2021-01-07</td>\n",
       "    </tr>\n",
       "    <tr>\n",
       "      <th>1</th>\n",
       "      <td>c_2</td>\n",
       "      <td>Male</td>\n",
       "      <td>USA</td>\n",
       "      <td>41</td>\n",
       "      <td>L</td>\n",
       "      <td>XL</td>\n",
       "      <td>12.0</td>\n",
       "      <td>-0.38</td>\n",
       "      <td>0.79</td>\n",
       "      <td>2021-03-19</td>\n",
       "    </tr>\n",
       "    <tr>\n",
       "      <th>2</th>\n",
       "      <td>c_3</td>\n",
       "      <td>Female</td>\n",
       "      <td>Germany</td>\n",
       "      <td>39</td>\n",
       "      <td>S</td>\n",
       "      <td>XS</td>\n",
       "      <td>7.5</td>\n",
       "      <td>-0.05</td>\n",
       "      <td>0.51</td>\n",
       "      <td>2021-10-12</td>\n",
       "    </tr>\n",
       "    <tr>\n",
       "      <th>3</th>\n",
       "      <td>c_4</td>\n",
       "      <td>Female</td>\n",
       "      <td>Japan</td>\n",
       "      <td>43</td>\n",
       "      <td>2XL</td>\n",
       "      <td>2XL</td>\n",
       "      <td>14.5</td>\n",
       "      <td>-0.07</td>\n",
       "      <td>0.13</td>\n",
       "      <td>2021-05-15</td>\n",
       "    </tr>\n",
       "    <tr>\n",
       "      <th>4</th>\n",
       "      <td>c_5</td>\n",
       "      <td>Male</td>\n",
       "      <td>USA</td>\n",
       "      <td>39</td>\n",
       "      <td>M</td>\n",
       "      <td>M</td>\n",
       "      <td>9.5</td>\n",
       "      <td>-0.61</td>\n",
       "      <td>0.55</td>\n",
       "      <td>2021-11-10</td>\n",
       "    </tr>\n",
       "  </tbody>\n",
       "</table>\n",
       "</div>"
      ],
      "text/plain": [
       "  consumer_id  gender  country  age upper_size lower_size  shoe_size  \\\n",
       "0         c_1  Female       UK   43         XS         XS        6.5   \n",
       "1         c_2    Male      USA   41          L         XL       12.0   \n",
       "2         c_3  Female  Germany   39          S         XS        7.5   \n",
       "3         c_4  Female    Japan   43        2XL        2XL       14.5   \n",
       "4         c_5    Male      USA   39          M          M        9.5   \n",
       "\n",
       "   consumer_tolerance_too_small  consumer_tolerance_too_large start_date  \n",
       "0                         -0.20                          0.21 2021-01-07  \n",
       "1                         -0.38                          0.79 2021-03-19  \n",
       "2                         -0.05                          0.51 2021-10-12  \n",
       "3                         -0.07                          0.13 2021-05-15  \n",
       "4                         -0.61                          0.55 2021-11-10  "
      ]
     },
     "execution_count": 48,
     "metadata": {},
     "output_type": "execute_result"
    }
   ],
   "source": [
    "consumer_features.head()"
   ]
  },
  {
   "cell_type": "markdown",
   "id": "66e4f097-4a3f-4cce-9379-698b28203a93",
   "metadata": {},
   "source": [
    "#### Demographic Distribution"
   ]
  },
  {
   "cell_type": "code",
   "execution_count": 50,
   "id": "8c48518e-f432-46d3-82b6-9cc1bfc37486",
   "metadata": {},
   "outputs": [
    {
     "data": {
      "text/plain": [
       "<Axes: xlabel='gender'>"
      ]
     },
     "execution_count": 50,
     "metadata": {},
     "output_type": "execute_result"
    },
    {
     "data": {
      "image/png": "[encoded data removed]",
      "text/plain": [
       "<Figure size 1000x500 with 1 Axes>"
      ]
     },
     "metadata": {},
     "output_type": "display_data"
    }
   ],
   "source": [
    "consumer_features[['gender', 'country']].value_counts().unstack().plot(kind = 'bar', figsize = (10,5))"
   ]
  },
  {
   "cell_type": "markdown",
   "id": "22fbe370-0a90-41c9-ae09-e34e93e63bbf",
   "metadata": {},
   "source": [
    "#### Age Distribution"
   ]
  },
  {
   "cell_type": "code",
   "execution_count": 52,
   "id": "53aed043-3975-418b-9337-5acef2477aa7",
   "metadata": {},
   "outputs": [
    {
     "data": {
      "text/plain": [
       "<Axes: xlabel='age', ylabel='Count'>"
      ]
     },
     "execution_count": 52,
     "metadata": {},
     "output_type": "execute_result"
    },
    {
     "data": {
      "image/png": "[encoded data removed]",
      "text/plain": [
       "<Figure size 640x480 with 1 Axes>"
      ]
     },
     "metadata": {},
     "output_type": "display_data"
    }
   ],
   "source": [
    "sns.histplot(consumer_features['age'], bins = 20, kde = True)"
   ]
  },
  {
   "cell_type": "markdown",
   "id": "c712d7f0-34f5-4448-95b4-f19190778e13",
   "metadata": {},
   "source": [
    "#### Size Tolerance Distribution by Gender"
   ]
  },
  {
   "cell_type": "code",
   "execution_count": 54,
   "id": "50889f6e-71c8-4356-acc1-90bfbb933236",
   "metadata": {},
   "outputs": [
    {
     "data": {
      "text/plain": [
       "<Axes: xlabel='gender', ylabel='consumer_tolerance_too_small'>"
      ]
     },
     "execution_count": 54,
     "metadata": {},
     "output_type": "execute_result"
    },
    {
     "data": {
      "image/png": "[encoded data removed]",
      "text/plain": [
       "<Figure size 640x480 with 1 Axes>"
      ]
     },
     "metadata": {},
     "output_type": "display_data"
    }
   ],
   "source": [
    "sns.boxplot(data = consumer_features, x = 'gender', y = 'consumer_tolerance_too_small')"
   ]
  },
  {
   "cell_type": "code",
   "execution_count": 55,
   "id": "f6cc9ed1-6100-41ae-b62d-ebc15bcc130f",
   "metadata": {},
   "outputs": [
    {
     "data": {
      "text/plain": [
       "<Axes: xlabel='gender', ylabel='consumer_tolerance_too_large'>"
      ]
     },
     "execution_count": 55,
     "metadata": {},
     "output_type": "execute_result"
    },
    {
     "data": {
      "image/png": "[encoded data removed]",
      "text/plain": [
       "<Figure size 640x480 with 1 Axes>"
      ]
     },
     "metadata": {},
     "output_type": "display_data"
    }
   ],
   "source": [
    "sns.boxplot(data = consumer_features, x = 'gender', y = 'consumer_tolerance_too_large')"
   ]
  },
  {
   "cell_type": "markdown",
   "id": "4907111e-248a-4e23-8cfc-aa3840721535",
   "metadata": {},
   "source": [
    "### 3.2 Product Data <a id=\"product_data_viz\"></a>"
   ]
  },
  {
   "cell_type": "markdown",
   "id": "d818f58e-7857-4c0a-b11f-34c408c9390d",
   "metadata": {},
   "source": [
    "#### Descriptive Statistics"
   ]
  },
  {
   "cell_type": "code",
   "execution_count": 58,
   "id": "20249b68-7a62-469d-ab36-3a95c16cb84e",
   "metadata": {},
   "outputs": [
    {
     "name": "stdout",
     "output_type": "stream",
     "text": [
      "<class 'pandas.core.frame.DataFrame'>\n",
      "RangeIndex: 1000 entries, 0 to 999\n",
      "Data columns (total 8 columns):\n",
      " #   Column               Non-Null Count  Dtype  \n",
      "---  ------               --------------  -----  \n",
      " 0   article_id           1000 non-null   object \n",
      " 1   section              1000 non-null   object \n",
      " 2   product_type         1000 non-null   object \n",
      " 3   fit_type             1000 non-null   object \n",
      " 4   size_accuracy        1000 non-null   object \n",
      " 5   available_countries  1000 non-null   object \n",
      " 6   material             1000 non-null   object \n",
      " 7   fit_offset           1000 non-null   float64\n",
      "dtypes: float64(1), object(7)\n",
      "memory usage: 62.6+ KB\n"
     ]
    }
   ],
   "source": [
    "article_features.info()"
   ]
  },
  {
   "cell_type": "code",
   "execution_count": 59,
   "id": "8a657ea8-b365-4d4e-97c7-15650ef3c575",
   "metadata": {},
   "outputs": [
    {
     "data": {
      "text/html": [
       "<div>\n",
       "<style scoped>\n",
       "    .dataframe tbody tr th:only-of-type {\n",
       "        vertical-align: middle;\n",
       "    }\n",
       "\n",
       "    .dataframe tbody tr th {\n",
       "        vertical-align: top;\n",
       "    }\n",
       "\n",
       "    .dataframe thead th {\n",
       "        text-align: right;\n",
       "    }\n",
       "</style>\n",
       "<table border=\"1\" class=\"dataframe\">\n",
       "  <thead>\n",
       "    <tr style=\"text-align: right;\">\n",
       "      <th></th>\n",
       "      <th>fit_offset</th>\n",
       "    </tr>\n",
       "  </thead>\n",
       "  <tbody>\n",
       "    <tr>\n",
       "      <th>count</th>\n",
       "      <td>1000.000000</td>\n",
       "    </tr>\n",
       "    <tr>\n",
       "      <th>mean</th>\n",
       "      <td>0.001820</td>\n",
       "    </tr>\n",
       "    <tr>\n",
       "      <th>std</th>\n",
       "      <td>0.498666</td>\n",
       "    </tr>\n",
       "    <tr>\n",
       "      <th>min</th>\n",
       "      <td>-1.190000</td>\n",
       "    </tr>\n",
       "    <tr>\n",
       "      <th>25%</th>\n",
       "      <td>-0.390000</td>\n",
       "    </tr>\n",
       "    <tr>\n",
       "      <th>50%</th>\n",
       "      <td>-0.020000</td>\n",
       "    </tr>\n",
       "    <tr>\n",
       "      <th>75%</th>\n",
       "      <td>0.382500</td>\n",
       "    </tr>\n",
       "    <tr>\n",
       "      <th>max</th>\n",
       "      <td>1.350000</td>\n",
       "    </tr>\n",
       "  </tbody>\n",
       "</table>\n",
       "</div>"
      ],
      "text/plain": [
       "        fit_offset\n",
       "count  1000.000000\n",
       "mean      0.001820\n",
       "std       0.498666\n",
       "min      -1.190000\n",
       "25%      -0.390000\n",
       "50%      -0.020000\n",
       "75%       0.382500\n",
       "max       1.350000"
      ]
     },
     "execution_count": 59,
     "metadata": {},
     "output_type": "execute_result"
    }
   ],
   "source": [
    "article_features.describe()"
   ]
  },
  {
   "cell_type": "code",
   "execution_count": 60,
   "id": "f7a8f275-c716-43fd-b3dc-ca75eb42da4a",
   "metadata": {},
   "outputs": [
    {
     "data": {
      "text/html": [
       "<div>\n",
       "<style scoped>\n",
       "    .dataframe tbody tr th:only-of-type {\n",
       "        vertical-align: middle;\n",
       "    }\n",
       "\n",
       "    .dataframe tbody tr th {\n",
       "        vertical-align: top;\n",
       "    }\n",
       "\n",
       "    .dataframe thead th {\n",
       "        text-align: right;\n",
       "    }\n",
       "</style>\n",
       "<table border=\"1\" class=\"dataframe\">\n",
       "  <thead>\n",
       "    <tr style=\"text-align: right;\">\n",
       "      <th></th>\n",
       "      <th>article_id</th>\n",
       "      <th>section</th>\n",
       "      <th>product_type</th>\n",
       "      <th>fit_type</th>\n",
       "      <th>size_accuracy</th>\n",
       "      <th>available_countries</th>\n",
       "      <th>material</th>\n",
       "      <th>fit_offset</th>\n",
       "    </tr>\n",
       "  </thead>\n",
       "  <tbody>\n",
       "    <tr>\n",
       "      <th>0</th>\n",
       "      <td>a_1</td>\n",
       "      <td>Male</td>\n",
       "      <td>T-Shirts &amp; Tops</td>\n",
       "      <td>regular</td>\n",
       "      <td>runs large</td>\n",
       "      <td>[UK, USA]</td>\n",
       "      <td>Cotton</td>\n",
       "      <td>0.43</td>\n",
       "    </tr>\n",
       "    <tr>\n",
       "      <th>1</th>\n",
       "      <td>a_2</td>\n",
       "      <td>Other</td>\n",
       "      <td>Jackets</td>\n",
       "      <td>regular</td>\n",
       "      <td>true to size</td>\n",
       "      <td>[Germany]</td>\n",
       "      <td>Recycled Polyester</td>\n",
       "      <td>-0.14</td>\n",
       "    </tr>\n",
       "    <tr>\n",
       "      <th>2</th>\n",
       "      <td>a_3</td>\n",
       "      <td>Other</td>\n",
       "      <td>Jackets</td>\n",
       "      <td>regular</td>\n",
       "      <td>true to size</td>\n",
       "      <td>[Germany]</td>\n",
       "      <td>Polyester</td>\n",
       "      <td>0.22</td>\n",
       "    </tr>\n",
       "    <tr>\n",
       "      <th>3</th>\n",
       "      <td>a_4</td>\n",
       "      <td>Male</td>\n",
       "      <td>Pants &amp; Leggings</td>\n",
       "      <td>regular</td>\n",
       "      <td>true to size</td>\n",
       "      <td>[Japan, UK, Germany]</td>\n",
       "      <td>Polyester</td>\n",
       "      <td>0.11</td>\n",
       "    </tr>\n",
       "    <tr>\n",
       "      <th>4</th>\n",
       "      <td>a_5</td>\n",
       "      <td>Female</td>\n",
       "      <td>Shoes</td>\n",
       "      <td>loose</td>\n",
       "      <td>true to size</td>\n",
       "      <td>[Germany, Japan]</td>\n",
       "      <td>Primeknit</td>\n",
       "      <td>0.83</td>\n",
       "    </tr>\n",
       "  </tbody>\n",
       "</table>\n",
       "</div>"
      ],
      "text/plain": [
       "  article_id section      product_type fit_type size_accuracy  \\\n",
       "0        a_1    Male   T-Shirts & Tops  regular    runs large   \n",
       "1        a_2   Other           Jackets  regular  true to size   \n",
       "2        a_3   Other           Jackets  regular  true to size   \n",
       "3        a_4    Male  Pants & Leggings  regular  true to size   \n",
       "4        a_5  Female             Shoes    loose  true to size   \n",
       "\n",
       "    available_countries            material  fit_offset  \n",
       "0             [UK, USA]              Cotton        0.43  \n",
       "1             [Germany]  Recycled Polyester       -0.14  \n",
       "2             [Germany]           Polyester        0.22  \n",
       "3  [Japan, UK, Germany]           Polyester        0.11  \n",
       "4      [Germany, Japan]           Primeknit        0.83  "
      ]
     },
     "execution_count": 60,
     "metadata": {},
     "output_type": "execute_result"
    }
   ],
   "source": [
    "article_features.head()"
   ]
  },
  {
   "cell_type": "markdown",
   "id": "e08afa9a-e2ee-4a30-b7b1-360a278b1729",
   "metadata": {},
   "source": [
    "#### Product Type Distribution"
   ]
  },
  {
   "cell_type": "code",
   "execution_count": 62,
   "id": "707fe877-5def-47bd-9d7c-99ed9e894529",
   "metadata": {},
   "outputs": [
    {
     "data": {
      "text/plain": [
       "<Axes: xlabel='count', ylabel='product_type'>"
      ]
     },
     "execution_count": 62,
     "metadata": {},
     "output_type": "execute_result"
    },
    {
     "data": {
      "image/png": "[encoded data removed]",
      "text/plain": [
       "<Figure size 640x480 with 1 Axes>"
      ]
     },
     "metadata": {},
     "output_type": "display_data"
    }
   ],
   "source": [
    "sns.countplot(data = article_features, y = 'product_type', order = article_features['product_type'].value_counts().index)"
   ]
  },
  {
   "cell_type": "markdown",
   "id": "3cc6b611-f288-46c2-8298-f6028c75c748",
   "metadata": {},
   "source": [
    "#### Fit Offset Distribution"
   ]
  },
  {
   "cell_type": "code",
   "execution_count": 64,
   "id": "35835126-9193-45ba-a21c-77d7da4aa5d2",
   "metadata": {},
   "outputs": [
    {
     "data": {
      "text/plain": [
       "<Axes: xlabel='fit_offset', ylabel='Count'>"
      ]
     },
     "execution_count": 64,
     "metadata": {},
     "output_type": "execute_result"
    },
    {
     "data": {
      "image/png": "[encoded data removed]",
      "text/plain": [
       "<Figure size 640x480 with 1 Axes>"
      ]
     },
     "metadata": {},
     "output_type": "display_data"
    }
   ],
   "source": [
    "sns.histplot(article_features['fit_offset'], bins = 30, kde = True)"
   ]
  },
  {
   "cell_type": "markdown",
   "id": "86ed7881-ce3c-4b57-815d-29ed96fd2b47",
   "metadata": {},
   "source": [
    "#### Fit Type vs. Size Accuracy"
   ]
  },
  {
   "cell_type": "code",
   "execution_count": 66,
   "id": "143855ff-7337-4187-b256-acad468ad2d8",
   "metadata": {},
   "outputs": [
    {
     "data": {
      "text/plain": [
       "<Axes: xlabel='fit_type'>"
      ]
     },
     "execution_count": 66,
     "metadata": {},
     "output_type": "execute_result"
    },
    {
     "data": {
      "image/png": "[encoded data removed]",
      "text/plain": [
       "<Figure size 640x480 with 1 Axes>"
      ]
     },
     "metadata": {},
     "output_type": "display_data"
    }
   ],
   "source": [
    "pd.crosstab(article_features['fit_type'], article_features['size_accuracy']).plot(kind = 'bar', stacked = True)"
   ]
  },
  {
   "cell_type": "markdown",
   "id": "766540bf-5a2a-4b0d-9d83-def7b772de83",
   "metadata": {},
   "source": [
    "### 3.3 Transaction Data <a id=\"transaction_data_viz\"></a>"
   ]
  },
  {
   "cell_type": "markdown",
   "id": "849667fe-e1c8-4c06-8670-38ea05693c21",
   "metadata": {},
   "source": [
    "#### Descriptive Statistics"
   ]
  },
  {
   "cell_type": "code",
   "execution_count": 69,
   "id": "4d086a6f-9283-4c94-8043-05c925f58bcd",
   "metadata": {},
   "outputs": [
    {
     "name": "stdout",
     "output_type": "stream",
     "text": [
      "<class 'pandas.core.frame.DataFrame'>\n",
      "RangeIndex: 4651 entries, 0 to 4650\n",
      "Data columns (total 5 columns):\n",
      " #   Column            Non-Null Count  Dtype         \n",
      "---  ------            --------------  -----         \n",
      " 0   consumer_id       4651 non-null   object        \n",
      " 1   article_id        4651 non-null   object        \n",
      " 2   purchased_size    4651 non-null   object        \n",
      " 3   fit_outcome       4651 non-null   object        \n",
      " 4   transaction_date  4651 non-null   datetime64[ns]\n",
      "dtypes: datetime64[ns](1), object(4)\n",
      "memory usage: 181.8+ KB\n"
     ]
    }
   ],
   "source": [
    "transaction_df.info()"
   ]
  },
  {
   "cell_type": "code",
   "execution_count": 70,
   "id": "a019d6bc-864b-47c9-a858-094e4f5c2b63",
   "metadata": {},
   "outputs": [
    {
     "data": {
      "text/html": [
       "<div>\n",
       "<style scoped>\n",
       "    .dataframe tbody tr th:only-of-type {\n",
       "        vertical-align: middle;\n",
       "    }\n",
       "\n",
       "    .dataframe tbody tr th {\n",
       "        vertical-align: top;\n",
       "    }\n",
       "\n",
       "    .dataframe thead th {\n",
       "        text-align: right;\n",
       "    }\n",
       "</style>\n",
       "<table border=\"1\" class=\"dataframe\">\n",
       "  <thead>\n",
       "    <tr style=\"text-align: right;\">\n",
       "      <th></th>\n",
       "      <th>transaction_date</th>\n",
       "    </tr>\n",
       "  </thead>\n",
       "  <tbody>\n",
       "    <tr>\n",
       "      <th>count</th>\n",
       "      <td>4651</td>\n",
       "    </tr>\n",
       "    <tr>\n",
       "      <th>mean</th>\n",
       "      <td>2021-12-05 04:21:37.269404416</td>\n",
       "    </tr>\n",
       "    <tr>\n",
       "      <th>min</th>\n",
       "      <td>2021-01-07 00:00:00</td>\n",
       "    </tr>\n",
       "    <tr>\n",
       "      <th>25%</th>\n",
       "      <td>2021-08-20 00:00:00</td>\n",
       "    </tr>\n",
       "    <tr>\n",
       "      <th>50%</th>\n",
       "      <td>2021-12-04 00:00:00</td>\n",
       "    </tr>\n",
       "    <tr>\n",
       "      <th>75%</th>\n",
       "      <td>2022-03-11 12:00:00</td>\n",
       "    </tr>\n",
       "    <tr>\n",
       "      <th>max</th>\n",
       "      <td>2023-06-09 00:00:00</td>\n",
       "    </tr>\n",
       "  </tbody>\n",
       "</table>\n",
       "</div>"
      ],
      "text/plain": [
       "                    transaction_date\n",
       "count                           4651\n",
       "mean   2021-12-05 04:21:37.269404416\n",
       "min              2021-01-07 00:00:00\n",
       "25%              2021-08-20 00:00:00\n",
       "50%              2021-12-04 00:00:00\n",
       "75%              2022-03-11 12:00:00\n",
       "max              2023-06-09 00:00:00"
      ]
     },
     "execution_count": 70,
     "metadata": {},
     "output_type": "execute_result"
    }
   ],
   "source": [
    "transaction_df.describe()"
   ]
  },
  {
   "cell_type": "code",
   "execution_count": 71,
   "id": "29aebd85-9b43-41f4-85bd-3094650336f6",
   "metadata": {},
   "outputs": [
    {
     "data": {
      "text/html": [
       "<div>\n",
       "<style scoped>\n",
       "    .dataframe tbody tr th:only-of-type {\n",
       "        vertical-align: middle;\n",
       "    }\n",
       "\n",
       "    .dataframe tbody tr th {\n",
       "        vertical-align: top;\n",
       "    }\n",
       "\n",
       "    .dataframe thead th {\n",
       "        text-align: right;\n",
       "    }\n",
       "</style>\n",
       "<table border=\"1\" class=\"dataframe\">\n",
       "  <thead>\n",
       "    <tr style=\"text-align: right;\">\n",
       "      <th></th>\n",
       "      <th>consumer_id</th>\n",
       "      <th>article_id</th>\n",
       "      <th>purchased_size</th>\n",
       "      <th>fit_outcome</th>\n",
       "      <th>transaction_date</th>\n",
       "    </tr>\n",
       "  </thead>\n",
       "  <tbody>\n",
       "    <tr>\n",
       "      <th>0</th>\n",
       "      <td>c_1</td>\n",
       "      <td>a_320</td>\n",
       "      <td>XS</td>\n",
       "      <td>too small</td>\n",
       "      <td>2021-03-23</td>\n",
       "    </tr>\n",
       "    <tr>\n",
       "      <th>1</th>\n",
       "      <td>c_1</td>\n",
       "      <td>a_486</td>\n",
       "      <td>S</td>\n",
       "      <td>too large</td>\n",
       "      <td>2021-03-28</td>\n",
       "    </tr>\n",
       "    <tr>\n",
       "      <th>2</th>\n",
       "      <td>c_1</td>\n",
       "      <td>a_682</td>\n",
       "      <td>6.0</td>\n",
       "      <td>too small</td>\n",
       "      <td>2021-04-09</td>\n",
       "    </tr>\n",
       "    <tr>\n",
       "      <th>3</th>\n",
       "      <td>c_2</td>\n",
       "      <td>a_632</td>\n",
       "      <td>11.5</td>\n",
       "      <td>not applicable</td>\n",
       "      <td>2021-05-15</td>\n",
       "    </tr>\n",
       "    <tr>\n",
       "      <th>4</th>\n",
       "      <td>c_2</td>\n",
       "      <td>a_164</td>\n",
       "      <td>XL</td>\n",
       "      <td>not applicable</td>\n",
       "      <td>2021-06-06</td>\n",
       "    </tr>\n",
       "  </tbody>\n",
       "</table>\n",
       "</div>"
      ],
      "text/plain": [
       "  consumer_id article_id purchased_size     fit_outcome transaction_date\n",
       "0         c_1      a_320             XS       too small       2021-03-23\n",
       "1         c_1      a_486              S       too large       2021-03-28\n",
       "2         c_1      a_682            6.0       too small       2021-04-09\n",
       "3         c_2      a_632           11.5  not applicable       2021-05-15\n",
       "4         c_2      a_164             XL  not applicable       2021-06-06"
      ]
     },
     "execution_count": 71,
     "metadata": {},
     "output_type": "execute_result"
    }
   ],
   "source": [
    "transaction_df.head()"
   ]
  },
  {
   "cell_type": "markdown",
   "id": "b82111b5-c9b9-417f-b62d-6dad92293f9e",
   "metadata": {},
   "source": [
    "#### Fit Outcome Distribution"
   ]
  },
  {
   "cell_type": "code",
   "execution_count": 73,
   "id": "57b3c691-e7ee-4a9c-9455-35a6230f170a",
   "metadata": {},
   "outputs": [
    {
     "data": {
      "text/plain": [
       "<Axes: xlabel='fit_outcome', ylabel='count'>"
      ]
     },
     "execution_count": 73,
     "metadata": {},
     "output_type": "execute_result"
    },
    {
     "data": {
      "image/png": "[encoded data removed]",
      "text/plain": [
       "<Figure size 640x480 with 1 Axes>"
      ]
     },
     "metadata": {},
     "output_type": "display_data"
    }
   ],
   "source": [
    "sns.countplot(data = transaction_df, x = 'fit_outcome')"
   ]
  },
  {
   "cell_type": "markdown",
   "id": "3b494f95-3629-4c34-8424-206b09359fa3",
   "metadata": {},
   "source": [
    "#### Sequence Length Distribution"
   ]
  },
  {
   "cell_type": "code",
   "execution_count": 75,
   "id": "dcc3d065-17bb-4520-b9a9-8b4023a11a5d",
   "metadata": {},
   "outputs": [],
   "source": [
    "consumer_purchase_counts = transaction_df['consumer_id'].value_counts()"
   ]
  },
  {
   "cell_type": "code",
   "execution_count": 76,
   "id": "428c758a-04d8-40ee-865a-466b81535df6",
   "metadata": {},
   "outputs": [
    {
     "data": {
      "text/plain": [
       "count    1000.000000\n",
       "mean        4.651000\n",
       "std         2.180815\n",
       "min         1.000000\n",
       "25%         3.000000\n",
       "50%         5.000000\n",
       "75%         6.000000\n",
       "max        10.000000\n",
       "Name: count, dtype: float64"
      ]
     },
     "execution_count": 76,
     "metadata": {},
     "output_type": "execute_result"
    }
   ],
   "source": [
    "consumer_purchase_counts.describe()"
   ]
  },
  {
   "cell_type": "markdown",
   "id": "4d695ae4-9aa7-4958-93a7-ccb1071391ae",
   "metadata": {},
   "source": [
    "The majority of consumers have around 5 transactions."
   ]
  },
  {
   "cell_type": "code",
   "execution_count": 78,
   "id": "df00345c-77a5-44b4-bf1b-65245c23c6b8",
   "metadata": {},
   "outputs": [
    {
     "data": {
      "image/png": "[encoded data removed]",
      "text/plain": [
       "<Figure size 1000x500 with 1 Axes>"
      ]
     },
     "metadata": {},
     "output_type": "display_data"
    }
   ],
   "source": [
    "# Plot distribution of sequence lengths\n",
    "plt.figure(figsize = (10, 5))\n",
    "sns.histplot(consumer_purchase_counts, bins = 30, kde = True)\n",
    "plt.xlabel(\"Number of Purchases per Consumer\")\n",
    "plt.ylabel(\"Number of Consumers\")\n",
    "plt.title(\"Distribution of Consumer Purchase Sequence Lengths\")\n",
    "plt.show()"
   ]
  },
  {
   "cell_type": "markdown",
   "id": "91bccca1-fbc6-4195-9477-548253963673",
   "metadata": {},
   "source": [
    "#### Correlation Between Sequence Length and Fit Outcome"
   ]
  },
  {
   "cell_type": "code",
   "execution_count": 80,
   "id": "6214fc0b-83d9-4674-b604-983baf0c94bc",
   "metadata": {},
   "outputs": [],
   "source": [
    "# Compute how many times each consumer has each fit outcome\n",
    "fit_outcome_counts = transaction_df.groupby(\"consumer_id\")[\"fit_outcome\"].value_counts().unstack(fill_value=0)\n",
    "\n",
    "# Add sequence length (total number of purchases per consumer)\n",
    "fit_outcome_counts[\"sequence_length\"] = transaction_df[\"consumer_id\"].value_counts()"
   ]
  },
  {
   "cell_type": "code",
   "execution_count": 81,
   "id": "ef2c5eb9-8a06-4f43-a49c-dfd43d21fd35",
   "metadata": {},
   "outputs": [
    {
     "data": {
      "image/png": "[encoded data removed]",
      "text/plain": [
       "<Figure size 800x500 with 2 Axes>"
      ]
     },
     "metadata": {},
     "output_type": "display_data"
    }
   ],
   "source": [
    "# Compute correlation matrix\n",
    "correlation_matrix = fit_outcome_counts.corr()\n",
    "\n",
    "# Display correlation heatmap\n",
    "plt.figure(figsize = (8, 5))\n",
    "sns.heatmap(correlation_matrix, annot = True, cmap = \"coolwarm\", fmt = \".2f\")\n",
    "plt.title(\"Correlation Between Sequence Length and Fit Outcome\")\n",
    "plt.show()"
   ]
  },
  {
   "cell_type": "code",
   "execution_count": 82,
   "id": "611d509f-a4e5-4921-98ac-cc5614e683a2",
   "metadata": {},
   "outputs": [
    {
     "data": {
      "text/html": [
       "<div>\n",
       "<style scoped>\n",
       "    .dataframe tbody tr th:only-of-type {\n",
       "        vertical-align: middle;\n",
       "    }\n",
       "\n",
       "    .dataframe tbody tr th {\n",
       "        vertical-align: top;\n",
       "    }\n",
       "\n",
       "    .dataframe thead th {\n",
       "        text-align: right;\n",
       "    }\n",
       "</style>\n",
       "<table border=\"1\" class=\"dataframe\">\n",
       "  <thead>\n",
       "    <tr style=\"text-align: right;\">\n",
       "      <th>fit_outcome</th>\n",
       "      <th>fit</th>\n",
       "      <th>not applicable</th>\n",
       "      <th>too large</th>\n",
       "      <th>too small</th>\n",
       "      <th>sequence_length</th>\n",
       "    </tr>\n",
       "    <tr>\n",
       "      <th>sequence_length</th>\n",
       "      <th></th>\n",
       "      <th></th>\n",
       "      <th></th>\n",
       "      <th></th>\n",
       "      <th></th>\n",
       "    </tr>\n",
       "  </thead>\n",
       "  <tbody>\n",
       "    <tr>\n",
       "      <th>(0, 2]</th>\n",
       "      <td>0.294118</td>\n",
       "      <td>0.192513</td>\n",
       "      <td>0.438503</td>\n",
       "      <td>0.481283</td>\n",
       "      <td>1.406417</td>\n",
       "    </tr>\n",
       "    <tr>\n",
       "      <th>(2, 5]</th>\n",
       "      <td>0.711454</td>\n",
       "      <td>0.513216</td>\n",
       "      <td>1.396476</td>\n",
       "      <td>1.519824</td>\n",
       "      <td>4.140969</td>\n",
       "    </tr>\n",
       "    <tr>\n",
       "      <th>(5, 8]</th>\n",
       "      <td>1.252308</td>\n",
       "      <td>0.858462</td>\n",
       "      <td>2.270769</td>\n",
       "      <td>2.375385</td>\n",
       "      <td>6.756923</td>\n",
       "    </tr>\n",
       "    <tr>\n",
       "      <th>(8, 12]</th>\n",
       "      <td>2.264706</td>\n",
       "      <td>1.235294</td>\n",
       "      <td>2.588235</td>\n",
       "      <td>3.088235</td>\n",
       "      <td>9.176471</td>\n",
       "    </tr>\n",
       "  </tbody>\n",
       "</table>\n",
       "</div>"
      ],
      "text/plain": [
       "fit_outcome           fit  not applicable  too large  too small  \\\n",
       "sequence_length                                                   \n",
       "(0, 2]           0.294118        0.192513   0.438503   0.481283   \n",
       "(2, 5]           0.711454        0.513216   1.396476   1.519824   \n",
       "(5, 8]           1.252308        0.858462   2.270769   2.375385   \n",
       "(8, 12]          2.264706        1.235294   2.588235   3.088235   \n",
       "\n",
       "fit_outcome      sequence_length  \n",
       "sequence_length                   \n",
       "(0, 2]                  1.406417  \n",
       "(2, 5]                  4.140969  \n",
       "(5, 8]                  6.756923  \n",
       "(8, 12]                 9.176471  "
      ]
     },
     "execution_count": 82,
     "metadata": {},
     "output_type": "execute_result"
    }
   ],
   "source": [
    "# Summarize trends by grouping consumers into bins based on sequence length\n",
    "fit_outcome_counts.groupby(pd.cut(fit_outcome_counts[\"sequence_length\"], bins = [0, 2, 5, 8, 12]), observed = True).mean()"
   ]
  },
  {
   "cell_type": "markdown",
   "id": "d5a78051-5e86-428d-aaed-1b282bb73ce6",
   "metadata": {},
   "source": [
    "Consumers with 9+ purchases have nearly 3 \"too small\" or \"too large\" fit issues. Consumers with fewer than 3 purchases tend to report fewer fit issues, likely due to fewer overall transactions."
   ]
  },
  {
   "cell_type": "markdown",
   "id": "4c2f3a1a-e1fb-4ac4-aeb9-191b5aed4bf5",
   "metadata": {},
   "source": [
    "#### Gender-Based Size Distributions"
   ]
  },
  {
   "cell_type": "code",
   "execution_count": 85,
   "id": "85b5d4aa-40cd-4842-93a0-1ebef6aac4df",
   "metadata": {},
   "outputs": [
    {
     "data": {
      "text/plain": [
       "array([ 4.5,  5. ,  5.5,  6. ,  6.5,  7. ,  7.5,  8. ,  8.5,  9. ,  9.5,\n",
       "       10. , 10.5, 11. , 11.5, 12. , 12.5, 13. , 13.5, 14. , 14.5, 15. ,\n",
       "       15.5])"
      ]
     },
     "execution_count": 85,
     "metadata": {},
     "output_type": "execute_result"
    }
   ],
   "source": [
    "shoe_sizes"
   ]
  },
  {
   "cell_type": "code",
   "execution_count": 86,
   "id": "ace5294c-8ae5-455a-9103-0c92f05a94d9",
   "metadata": {},
   "outputs": [],
   "source": [
    "# Ensure purchased_size is treated as a string\n",
    "transaction_df[\"purchased_size\"] = transaction_df[\"purchased_size\"].astype(str)\n",
    "\n",
    "# Merge transaction_df with consumer_features to get gender information\n",
    "merged_df = transaction_df.merge(consumer_features[['consumer_id', 'gender']], on = 'consumer_id', how = 'left')\n",
    "\n",
    "# Define clothing sizes (categorical) and shoe sizes (numerical)\n",
    "clothing_sizes = {\"2XS\", \"XS\", \"S\", \"M\", \"L\", \"XL\", \"2XL\"}\n",
    "shoes_sizes = set(merged_df[\"purchased_size\"]) - clothing_sizes  # Anything not in clothing_sizes\n",
    "\n",
    "# Create two separate dataframes\n",
    "clothing_df = merged_df[merged_df[\"purchased_size\"].isin(clothing_sizes)]\n",
    "\n",
    "# Convert 'purchased_size' to a categorical variable with the specified order\n",
    "clothing_df[\"purchased_size\"] = pd.Categorical(clothing_df[\"purchased_size\"],\n",
    "                                               categories = sizes,\n",
    "                                               ordered = True)\n",
    "\n",
    "shoe_df = merged_df[merged_df[\"purchased_size\"].isin(shoes_sizes)]\n",
    "\n",
    "# Convert the shoe sizes to numeric\n",
    "shoe_df[\"purchased_size\"] = pd.to_numeric(shoe_df[\"purchased_size\"], errors = \"coerce\")\n",
    "\n",
    "# Determine the sorted order of unique shoe sizes\n",
    "shoe_size_order = sorted(shoe_df[\"purchased_size\"].unique())\n",
    "\n",
    "# Convert 'purchased_size' to a categorical variable with the sorted order\n",
    "shoe_df[\"purchased_size\"] = pd.Categorical(shoe_df[\"purchased_size\"],\n",
    "                                           categories = shoe_size_order,\n",
    "                                           ordered = True)"
   ]
  },
  {
   "cell_type": "code",
   "execution_count": 87,
   "id": "750b7373-5340-4d10-ac2c-c812780d194e",
   "metadata": {},
   "outputs": [
    {
     "data": {
      "image/png": "[encoded data removed]",
      "text/plain": [
       "<Figure size 1200x500 with 1 Axes>"
      ]
     },
     "metadata": {},
     "output_type": "display_data"
    }
   ],
   "source": [
    "# Plot clothing size distribution by gender\n",
    "plt.figure(figsize = (12, 5))\n",
    "sns.histplot(data = clothing_df, x = \"purchased_size\", hue = \"gender\", multiple = \"stack\", discrete = True)\n",
    "plt.xlabel(\"Clothing Size\")\n",
    "plt.ylabel(\"Count\")\n",
    "plt.title(\"Distribution of Purchased Clothing Sizes by Gender\")\n",
    "plt.xticks(rotation = 45)\n",
    "plt.show()"
   ]
  },
  {
   "cell_type": "code",
   "execution_count": 88,
   "id": "9168a285-a0a8-408e-bdd3-f54495ccec23",
   "metadata": {},
   "outputs": [
    {
     "data": {
      "image/png": "[encoded data removed]",
      "text/plain": [
       "<Figure size 1200x500 with 1 Axes>"
      ]
     },
     "metadata": {},
     "output_type": "display_data"
    }
   ],
   "source": [
    "# Plot shoe size distribution by gender\n",
    "plt.figure(figsize = (12, 5))\n",
    "sns.histplot(data = shoe_df, x = \"purchased_size\", hue = \"gender\", multiple = \"stack\", bins = shoe_size_order)\n",
    "plt.xlabel(\"Shoe Size\")\n",
    "plt.ylabel(\"Count\")\n",
    "plt.title(\"Distribution of Purchased Shoe Sizes by Gender\")\n",
    "plt.xticks(rotation = 45)\n",
    "plt.show()"
   ]
  },
  {
   "cell_type": "markdown",
   "id": "11a51f09-f165-4165-ae54-0392ed5fbbe3",
   "metadata": {},
   "source": [
    "As expected, females predominantly purchase S and M clothing sizes, while males favor L and XL, with the \"Other\" category showing a balanced preference for M and L, and 2XS being the least popular size; similarly, females tend to buy smaller shoe sizes (peaking at 7.5, 8.5, and 9.0), males prefer larger sizes (peaking at 9.5, 10.5, and 11.5), and the \"Other\" category has a more even spread but leans slightly toward smaller sizes, with extreme sizes (4.5, 14.5) being rare"
   ]
  },
  {
   "cell_type": "markdown",
   "id": "efbee743-fc7c-44b7-a664-0ef6704c0574",
   "metadata": {},
   "source": [
    "---"
   ]
  },
  {
   "cell_type": "markdown",
   "id": "81171034-f4db-4098-a6a3-44ee404ef192",
   "metadata": {},
   "source": [
    "## Model Training <a id=\"model_training\"></a>"
   ]
  },
  {
   "cell_type": "markdown",
   "id": "4d64891d-c1c1-4d86-badf-cd27eaeb0097",
   "metadata": {},
   "source": [
    "### Data Preparation <a id=\"data_preparation\"></a>"
   ]
  },
  {
   "cell_type": "code",
   "execution_count": 93,
   "id": "54327a6d-3700-42b7-aa33-23bd4acacc04",
   "metadata": {},
   "outputs": [],
   "source": [
    "# Prepare the dataset (merge transactions with consumer and product data)\n",
    "df = transaction_df.merge(consumer_features, on = 'consumer_id').merge(article_features, on = 'article_id')"
   ]
  },
  {
   "cell_type": "code",
   "execution_count": 94,
   "id": "e0843f6c-5a1e-4b95-8391-ca3f20297860",
   "metadata": {},
   "outputs": [],
   "source": [
    "# Define features and target variable\n",
    "X = df[['gender', 'age', 'country', 'product_type', 'section', 'material']]\n",
    "y = df['fit_outcome']"
   ]
  },
  {
   "cell_type": "code",
   "execution_count": 95,
   "id": "4b5ab32d-d324-47e8-b057-3504d86adf68",
   "metadata": {},
   "outputs": [],
   "source": [
    "# Define categorical and numerical features\n",
    "categorical_features = ['gender', 'country', 'product_type', 'section', 'material']\n",
    "numerical_features = ['age']"
   ]
  },
  {
   "cell_type": "code",
   "execution_count": 96,
   "id": "bc7deb6d-6701-40bf-8de8-af545efac1a9",
   "metadata": {},
   "outputs": [],
   "source": [
    "# Preprocessing pipeline\n",
    "preprocessor = ColumnTransformer([\n",
    "    ('cat', OrdinalEncoder(), categorical_features),\n",
    "    ('num', StandardScaler(), numerical_features)\n",
    "])"
   ]
  },
  {
   "cell_type": "code",
   "execution_count": 97,
   "id": "bc9c3884-8517-476c-a1b3-005b6b46986d",
   "metadata": {},
   "outputs": [],
   "source": [
    "# Train-test split\n",
    "X_train, X_test, y_train, y_test = train_test_split(X, y, test_size = 0.2, stratify = y, random_state = 111)"
   ]
  },
  {
   "cell_type": "code",
   "execution_count": 98,
   "id": "06079518-11b5-4389-bc54-8a1b2a5c7190",
   "metadata": {},
   "outputs": [],
   "source": [
    "# Fit and transform training data\n",
    "X_train = preprocessor.fit_transform(X_train)\n",
    "\n",
    "# Transform test data using the same scaling parameters\n",
    "X_test = preprocessor.transform(X_test)"
   ]
  },
  {
   "cell_type": "code",
   "execution_count": 99,
   "id": "ab163991-31d5-47bd-a3f0-fb424a9f9795",
   "metadata": {},
   "outputs": [
    {
     "data": {
      "text/html": [
       "<div>\n",
       "<style scoped>\n",
       "    .dataframe tbody tr th:only-of-type {\n",
       "        vertical-align: middle;\n",
       "    }\n",
       "\n",
       "    .dataframe tbody tr th {\n",
       "        vertical-align: top;\n",
       "    }\n",
       "\n",
       "    .dataframe thead tr th {\n",
       "        text-align: left;\n",
       "    }\n",
       "</style>\n",
       "<table border=\"1\" class=\"dataframe\">\n",
       "  <thead>\n",
       "    <tr>\n",
       "      <th></th>\n",
       "      <th>gender</th>\n",
       "      <th>country</th>\n",
       "      <th>product_type</th>\n",
       "      <th>section</th>\n",
       "      <th>material</th>\n",
       "      <th>age</th>\n",
       "    </tr>\n",
       "  </thead>\n",
       "  <tbody>\n",
       "    <tr>\n",
       "      <th>0</th>\n",
       "      <td>0.0</td>\n",
       "      <td>0.0</td>\n",
       "      <td>2.0</td>\n",
       "      <td>0.0</td>\n",
       "      <td>5.0</td>\n",
       "      <td>-0.517300</td>\n",
       "    </tr>\n",
       "    <tr>\n",
       "      <th>1</th>\n",
       "      <td>0.0</td>\n",
       "      <td>0.0</td>\n",
       "      <td>1.0</td>\n",
       "      <td>2.0</td>\n",
       "      <td>6.0</td>\n",
       "      <td>0.000390</td>\n",
       "    </tr>\n",
       "    <tr>\n",
       "      <th>2</th>\n",
       "      <td>0.0</td>\n",
       "      <td>1.0</td>\n",
       "      <td>0.0</td>\n",
       "      <td>1.0</td>\n",
       "      <td>4.0</td>\n",
       "      <td>0.414541</td>\n",
       "    </tr>\n",
       "    <tr>\n",
       "      <th>3</th>\n",
       "      <td>0.0</td>\n",
       "      <td>3.0</td>\n",
       "      <td>0.0</td>\n",
       "      <td>1.0</td>\n",
       "      <td>4.0</td>\n",
       "      <td>0.518079</td>\n",
       "    </tr>\n",
       "    <tr>\n",
       "      <th>4</th>\n",
       "      <td>2.0</td>\n",
       "      <td>3.0</td>\n",
       "      <td>0.0</td>\n",
       "      <td>0.0</td>\n",
       "      <td>5.0</td>\n",
       "      <td>-1.345603</td>\n",
       "    </tr>\n",
       "  </tbody>\n",
       "</table>\n",
       "</div>"
      ],
      "text/plain": [
       "  gender country product_type section material       age\n",
       "0    0.0     0.0          2.0     0.0      5.0 -0.517300\n",
       "1    0.0     0.0          1.0     2.0      6.0  0.000390\n",
       "2    0.0     1.0          0.0     1.0      4.0  0.414541\n",
       "3    0.0     3.0          0.0     1.0      4.0  0.518079\n",
       "4    2.0     3.0          0.0     0.0      5.0 -1.345603"
      ]
     },
     "execution_count": 99,
     "metadata": {},
     "output_type": "execute_result"
    }
   ],
   "source": [
    "X_train_df = pd.DataFrame(X_train, columns = [categorical_features + numerical_features])\n",
    "X_train_df.head()"
   ]
  },
  {
   "cell_type": "code",
   "execution_count": 100,
   "id": "0afe49ee-17e2-46a2-8950-4a4996b1f498",
   "metadata": {},
   "outputs": [
    {
     "data": {
      "text/html": [
       "<div>\n",
       "<style scoped>\n",
       "    .dataframe tbody tr th:only-of-type {\n",
       "        vertical-align: middle;\n",
       "    }\n",
       "\n",
       "    .dataframe tbody tr th {\n",
       "        vertical-align: top;\n",
       "    }\n",
       "\n",
       "    .dataframe thead tr th {\n",
       "        text-align: left;\n",
       "    }\n",
       "</style>\n",
       "<table border=\"1\" class=\"dataframe\">\n",
       "  <thead>\n",
       "    <tr>\n",
       "      <th></th>\n",
       "      <th>gender</th>\n",
       "      <th>country</th>\n",
       "      <th>product_type</th>\n",
       "      <th>section</th>\n",
       "      <th>material</th>\n",
       "      <th>age</th>\n",
       "    </tr>\n",
       "  </thead>\n",
       "  <tbody>\n",
       "    <tr>\n",
       "      <th>0</th>\n",
       "      <td>0.0</td>\n",
       "      <td>3.0</td>\n",
       "      <td>2.0</td>\n",
       "      <td>2.0</td>\n",
       "      <td>6.0</td>\n",
       "      <td>-0.724375</td>\n",
       "    </tr>\n",
       "    <tr>\n",
       "      <th>1</th>\n",
       "      <td>1.0</td>\n",
       "      <td>1.0</td>\n",
       "      <td>4.0</td>\n",
       "      <td>2.0</td>\n",
       "      <td>6.0</td>\n",
       "      <td>0.311003</td>\n",
       "    </tr>\n",
       "    <tr>\n",
       "      <th>2</th>\n",
       "      <td>1.0</td>\n",
       "      <td>0.0</td>\n",
       "      <td>1.0</td>\n",
       "      <td>1.0</td>\n",
       "      <td>4.0</td>\n",
       "      <td>1.139306</td>\n",
       "    </tr>\n",
       "    <tr>\n",
       "      <th>3</th>\n",
       "      <td>0.0</td>\n",
       "      <td>0.0</td>\n",
       "      <td>0.0</td>\n",
       "      <td>0.0</td>\n",
       "      <td>2.0</td>\n",
       "      <td>-1.138527</td>\n",
       "    </tr>\n",
       "    <tr>\n",
       "      <th>4</th>\n",
       "      <td>1.0</td>\n",
       "      <td>1.0</td>\n",
       "      <td>4.0</td>\n",
       "      <td>0.0</td>\n",
       "      <td>1.0</td>\n",
       "      <td>0.103928</td>\n",
       "    </tr>\n",
       "  </tbody>\n",
       "</table>\n",
       "</div>"
      ],
      "text/plain": [
       "  gender country product_type section material       age\n",
       "0    0.0     3.0          2.0     2.0      6.0 -0.724375\n",
       "1    1.0     1.0          4.0     2.0      6.0  0.311003\n",
       "2    1.0     0.0          1.0     1.0      4.0  1.139306\n",
       "3    0.0     0.0          0.0     0.0      2.0 -1.138527\n",
       "4    1.0     1.0          4.0     0.0      1.0  0.103928"
      ]
     },
     "execution_count": 100,
     "metadata": {},
     "output_type": "execute_result"
    }
   ],
   "source": [
    "X_test_df = pd.DataFrame(X_test, columns = [categorical_features + numerical_features])\n",
    "X_test_df.head()"
   ]
  },
  {
   "cell_type": "markdown",
   "id": "4b4d83c3-4f47-4028-af6f-d1e42a4fa501",
   "metadata": {},
   "source": [
    "---"
   ]
  },
  {
   "cell_type": "markdown",
   "id": "e5246cd2-3337-4c9f-88a5-d16f838c2619",
   "metadata": {},
   "source": [
    "### Random Forest - Baseline Model <a id=\"random_forest\"></a>"
   ]
  },
  {
   "cell_type": "code",
   "execution_count": 103,
   "id": "f6c1b067-7f2e-4917-95ce-37af6d7726ab",
   "metadata": {},
   "outputs": [],
   "source": [
    "# Define the parameter grid\n",
    "param_grid = {\n",
    "    'n_estimators': [50, 100, 200],\n",
    "    'max_depth': [10, 20, None],\n",
    "    'min_samples_split': [2, 5, 10],\n",
    "    'min_samples_leaf': [1, 2, 4],\n",
    "    'bootstrap': [True, False]\n",
    "}"
   ]
  },
  {
   "cell_type": "code",
   "execution_count": 104,
   "id": "3d86c3fb-18fe-48a3-abf7-785208660e9b",
   "metadata": {},
   "outputs": [],
   "source": [
    "# Initialize the Random Forest model\n",
    "rf_model = RandomForestClassifier(random_state = 111)"
   ]
  },
  {
   "cell_type": "code",
   "execution_count": 105,
   "id": "c56a8a86-4542-423f-9f1d-acd85f8cf909",
   "metadata": {},
   "outputs": [],
   "source": [
    "# Set up Grid Search with 5-fold cross-validation\n",
    "grid_search = GridSearchCV(\n",
    "    estimator = rf_model, \n",
    "    param_grid = param_grid, \n",
    "    cv = 5,\n",
    "    scoring = 'accuracy',\n",
    "    n_jobs = -1\n",
    ")"
   ]
  },
  {
   "cell_type": "code",
   "execution_count": 106,
   "id": "e8a4be88-7b6b-4206-b2d4-266b0434070b",
   "metadata": {},
   "outputs": [
    {
     "data": {
      "text/html": [
       "<style>#sk-container-id-1 {\n",
       "  /* Definition of color scheme common for light and dark mode */\n",
       "  --sklearn-color-text: black;\n",
       "  --sklearn-color-line: gray;\n",
       "  /* Definition of color scheme for unfitted estimators */\n",
       "  --sklearn-color-unfitted-level-0: #fff5e6;\n",
       "  --sklearn-color-unfitted-level-1: #f6e4d2;\n",
       "  --sklearn-color-unfitted-level-2: #ffe0b3;\n",
       "  --sklearn-color-unfitted-level-3: chocolate;\n",
       "  /* Definition of color scheme for fitted estimators */\n",
       "  --sklearn-color-fitted-level-0: #f0f8ff;\n",
       "  --sklearn-color-fitted-level-1: #d4ebff;\n",
       "  --sklearn-color-fitted-level-2: #b3dbfd;\n",
       "  --sklearn-color-fitted-level-3: cornflowerblue;\n",
       "\n",
       "  /* Specific color for light theme */\n",
       "  --sklearn-color-text-on-default-background: var(--sg-text-color, var(--theme-code-foreground, var(--jp-content-font-color1, black)));\n",
       "  --sklearn-color-background: var(--sg-background-color, var(--theme-background, var(--jp-layout-color0, white)));\n",
       "  --sklearn-color-border-box: var(--sg-text-color, var(--theme-code-foreground, var(--jp-content-font-color1, black)));\n",
       "  --sklearn-color-icon: #696969;\n",
       "\n",
       "  @media (prefers-color-scheme: dark) {\n",
       "    /* Redefinition of color scheme for dark theme */\n",
       "    --sklearn-color-text-on-default-background: var(--sg-text-color, var(--theme-code-foreground, var(--jp-content-font-color1, white)));\n",
       "    --sklearn-color-background: var(--sg-background-color, var(--theme-background, var(--jp-layout-color0, #111)));\n",
       "    --sklearn-color-border-box: var(--sg-text-color, var(--theme-code-foreground, var(--jp-content-font-color1, white)));\n",
       "    --sklearn-color-icon: #878787;\n",
       "  }\n",
       "}\n",
       "\n",
       "#sk-container-id-1 {\n",
       "  color: var(--sklearn-color-text);\n",
       "}\n",
       "\n",
       "#sk-container-id-1 pre {\n",
       "  padding: 0;\n",
       "}\n",
       "\n",
       "#sk-container-id-1 input.sk-hidden--visually {\n",
       "  border: 0;\n",
       "  clip: rect(1px 1px 1px 1px);\n",
       "  clip: rect(1px, 1px, 1px, 1px);\n",
       "  height: 1px;\n",
       "  margin: -1px;\n",
       "  overflow: hidden;\n",
       "  padding: 0;\n",
       "  position: absolute;\n",
       "  width: 1px;\n",
       "}\n",
       "\n",
       "#sk-container-id-1 div.sk-dashed-wrapped {\n",
       "  border: 1px dashed var(--sklearn-color-line);\n",
       "  margin: 0 0.4em 0.5em 0.4em;\n",
       "  box-sizing: border-box;\n",
       "  padding-bottom: 0.4em;\n",
       "  background-color: var(--sklearn-color-background);\n",
       "}\n",
       "\n",
       "#sk-container-id-1 div.sk-container {\n",
       "  /* jupyter's `normalize.less` sets `[hidden] { display: none; }`\n",
       "     but bootstrap.min.css set `[hidden] { display: none !important; }`\n",
       "     so we also need the `!important` here to be able to override the\n",
       "     default hidden behavior on the sphinx rendered scikit-learn.org.\n",
       "     See: https://github.com/scikit-learn/scikit-learn/issues/21755 */\n",
       "  display: inline-block !important;\n",
       "  position: relative;\n",
       "}\n",
       "\n",
       "#sk-container-id-1 div.sk-text-repr-fallback {\n",
       "  display: none;\n",
       "}\n",
       "\n",
       "div.sk-parallel-item,\n",
       "div.sk-serial,\n",
       "div.sk-item {\n",
       "  /* draw centered vertical line to link estimators */\n",
       "  background-image: linear-gradient(var(--sklearn-color-text-on-default-background), var(--sklearn-color-text-on-default-background));\n",
       "  background-size: 2px 100%;\n",
       "  background-repeat: no-repeat;\n",
       "  background-position: center center;\n",
       "}\n",
       "\n",
       "/* Parallel-specific style estimator block */\n",
       "\n",
       "#sk-container-id-1 div.sk-parallel-item::after {\n",
       "  content: \"\";\n",
       "  width: 100%;\n",
       "  border-bottom: 2px solid var(--sklearn-color-text-on-default-background);\n",
       "  flex-grow: 1;\n",
       "}\n",
       "\n",
       "#sk-container-id-1 div.sk-parallel {\n",
       "  display: flex;\n",
       "  align-items: stretch;\n",
       "  justify-content: center;\n",
       "  background-color: var(--sklearn-color-background);\n",
       "  position: relative;\n",
       "}\n",
       "\n",
       "#sk-container-id-1 div.sk-parallel-item {\n",
       "  display: flex;\n",
       "  flex-direction: column;\n",
       "}\n",
       "\n",
       "#sk-container-id-1 div.sk-parallel-item:first-child::after {\n",
       "  align-self: flex-end;\n",
       "  width: 50%;\n",
       "}\n",
       "\n",
       "#sk-container-id-1 div.sk-parallel-item:last-child::after {\n",
       "  align-self: flex-start;\n",
       "  width: 50%;\n",
       "}\n",
       "\n",
       "#sk-container-id-1 div.sk-parallel-item:only-child::after {\n",
       "  width: 0;\n",
       "}\n",
       "\n",
       "/* Serial-specific style estimator block */\n",
       "\n",
       "#sk-container-id-1 div.sk-serial {\n",
       "  display: flex;\n",
       "  flex-direction: column;\n",
       "  align-items: center;\n",
       "  background-color: var(--sklearn-color-background);\n",
       "  padding-right: 1em;\n",
       "  padding-left: 1em;\n",
       "}\n",
       "\n",
       "\n",
       "/* Toggleable style: style used for estimator/Pipeline/ColumnTransformer box that is\n",
       "clickable and can be expanded/collapsed.\n",
       "- Pipeline and ColumnTransformer use this feature and define the default style\n",
       "- Estimators will overwrite some part of the style using the `sk-estimator` class\n",
       "*/\n",
       "\n",
       "/* Pipeline and ColumnTransformer style (default) */\n",
       "\n",
       "#sk-container-id-1 div.sk-toggleable {\n",
       "  /* Default theme specific background. It is overwritten whether we have a\n",
       "  specific estimator or a Pipeline/ColumnTransformer */\n",
       "  background-color: var(--sklearn-color-background);\n",
       "}\n",
       "\n",
       "/* Toggleable label */\n",
       "#sk-container-id-1 label.sk-toggleable__label {\n",
       "  cursor: pointer;\n",
       "  display: block;\n",
       "  width: 100%;\n",
       "  margin-bottom: 0;\n",
       "  padding: 0.5em;\n",
       "  box-sizing: border-box;\n",
       "  text-align: center;\n",
       "}\n",
       "\n",
       "#sk-container-id-1 label.sk-toggleable__label-arrow:before {\n",
       "  /* Arrow on the left of the label */\n",
       "  content: \"▸\";\n",
       "  float: left;\n",
       "  margin-right: 0.25em;\n",
       "  color: var(--sklearn-color-icon);\n",
       "}\n",
       "\n",
       "#sk-container-id-1 label.sk-toggleable__label-arrow:hover:before {\n",
       "  color: var(--sklearn-color-text);\n",
       "}\n",
       "\n",
       "/* Toggleable content - dropdown */\n",
       "\n",
       "#sk-container-id-1 div.sk-toggleable__content {\n",
       "  max-height: 0;\n",
       "  max-width: 0;\n",
       "  overflow: hidden;\n",
       "  text-align: left;\n",
       "  /* unfitted */\n",
       "  background-color: var(--sklearn-color-unfitted-level-0);\n",
       "}\n",
       "\n",
       "#sk-container-id-1 div.sk-toggleable__content.fitted {\n",
       "  /* fitted */\n",
       "  background-color: var(--sklearn-color-fitted-level-0);\n",
       "}\n",
       "\n",
       "#sk-container-id-1 div.sk-toggleable__content pre {\n",
       "  margin: 0.2em;\n",
       "  border-radius: 0.25em;\n",
       "  color: var(--sklearn-color-text);\n",
       "  /* unfitted */\n",
       "  background-color: var(--sklearn-color-unfitted-level-0);\n",
       "}\n",
       "\n",
       "#sk-container-id-1 div.sk-toggleable__content.fitted pre {\n",
       "  /* unfitted */\n",
       "  background-color: var(--sklearn-color-fitted-level-0);\n",
       "}\n",
       "\n",
       "#sk-container-id-1 input.sk-toggleable__control:checked~div.sk-toggleable__content {\n",
       "  /* Expand drop-down */\n",
       "  max-height: 200px;\n",
       "  max-width: 100%;\n",
       "  overflow: auto;\n",
       "}\n",
       "\n",
       "#sk-container-id-1 input.sk-toggleable__control:checked~label.sk-toggleable__label-arrow:before {\n",
       "  content: \"▾\";\n",
       "}\n",
       "\n",
       "/* Pipeline/ColumnTransformer-specific style */\n",
       "\n",
       "#sk-container-id-1 div.sk-label input.sk-toggleable__control:checked~label.sk-toggleable__label {\n",
       "  color: var(--sklearn-color-text);\n",
       "  background-color: var(--sklearn-color-unfitted-level-2);\n",
       "}\n",
       "\n",
       "#sk-container-id-1 div.sk-label.fitted input.sk-toggleable__control:checked~label.sk-toggleable__label {\n",
       "  background-color: var(--sklearn-color-fitted-level-2);\n",
       "}\n",
       "\n",
       "/* Estimator-specific style */\n",
       "\n",
       "/* Colorize estimator box */\n",
       "#sk-container-id-1 div.sk-estimator input.sk-toggleable__control:checked~label.sk-toggleable__label {\n",
       "  /* unfitted */\n",
       "  background-color: var(--sklearn-color-unfitted-level-2);\n",
       "}\n",
       "\n",
       "#sk-container-id-1 div.sk-estimator.fitted input.sk-toggleable__control:checked~label.sk-toggleable__label {\n",
       "  /* fitted */\n",
       "  background-color: var(--sklearn-color-fitted-level-2);\n",
       "}\n",
       "\n",
       "#sk-container-id-1 div.sk-label label.sk-toggleable__label,\n",
       "#sk-container-id-1 div.sk-label label {\n",
       "  /* The background is the default theme color */\n",
       "  color: var(--sklearn-color-text-on-default-background);\n",
       "}\n",
       "\n",
       "/* On hover, darken the color of the background */\n",
       "#sk-container-id-1 div.sk-label:hover label.sk-toggleable__label {\n",
       "  color: var(--sklearn-color-text);\n",
       "  background-color: var(--sklearn-color-unfitted-level-2);\n",
       "}\n",
       "\n",
       "/* Label box, darken color on hover, fitted */\n",
       "#sk-container-id-1 div.sk-label.fitted:hover label.sk-toggleable__label.fitted {\n",
       "  color: var(--sklearn-color-text);\n",
       "  background-color: var(--sklearn-color-fitted-level-2);\n",
       "}\n",
       "\n",
       "/* Estimator label */\n",
       "\n",
       "#sk-container-id-1 div.sk-label label {\n",
       "  font-family: monospace;\n",
       "  font-weight: bold;\n",
       "  display: inline-block;\n",
       "  line-height: 1.2em;\n",
       "}\n",
       "\n",
       "#sk-container-id-1 div.sk-label-container {\n",
       "  text-align: center;\n",
       "}\n",
       "\n",
       "/* Estimator-specific */\n",
       "#sk-container-id-1 div.sk-estimator {\n",
       "  font-family: monospace;\n",
       "  border: 1px dotted var(--sklearn-color-border-box);\n",
       "  border-radius: 0.25em;\n",
       "  box-sizing: border-box;\n",
       "  margin-bottom: 0.5em;\n",
       "  /* unfitted */\n",
       "  background-color: var(--sklearn-color-unfitted-level-0);\n",
       "}\n",
       "\n",
       "#sk-container-id-1 div.sk-estimator.fitted {\n",
       "  /* fitted */\n",
       "  background-color: var(--sklearn-color-fitted-level-0);\n",
       "}\n",
       "\n",
       "/* on hover */\n",
       "#sk-container-id-1 div.sk-estimator:hover {\n",
       "  /* unfitted */\n",
       "  background-color: var(--sklearn-color-unfitted-level-2);\n",
       "}\n",
       "\n",
       "#sk-container-id-1 div.sk-estimator.fitted:hover {\n",
       "  /* fitted */\n",
       "  background-color: var(--sklearn-color-fitted-level-2);\n",
       "}\n",
       "\n",
       "/* Specification for estimator info (e.g. \"i\" and \"?\") */\n",
       "\n",
       "/* Common style for \"i\" and \"?\" */\n",
       "\n",
       ".sk-estimator-doc-link,\n",
       "a:link.sk-estimator-doc-link,\n",
       "a:visited.sk-estimator-doc-link {\n",
       "  float: right;\n",
       "  font-size: smaller;\n",
       "  line-height: 1em;\n",
       "  font-family: monospace;\n",
       "  background-color: var(--sklearn-color-background);\n",
       "  border-radius: 1em;\n",
       "  height: 1em;\n",
       "  width: 1em;\n",
       "  text-decoration: none !important;\n",
       "  margin-left: 1ex;\n",
       "  /* unfitted */\n",
       "  border: var(--sklearn-color-unfitted-level-1) 1pt solid;\n",
       "  color: var(--sklearn-color-unfitted-level-1);\n",
       "}\n",
       "\n",
       ".sk-estimator-doc-link.fitted,\n",
       "a:link.sk-estimator-doc-link.fitted,\n",
       "a:visited.sk-estimator-doc-link.fitted {\n",
       "  /* fitted */\n",
       "  border: var(--sklearn-color-fitted-level-1) 1pt solid;\n",
       "  color: var(--sklearn-color-fitted-level-1);\n",
       "}\n",
       "\n",
       "/* On hover */\n",
       "div.sk-estimator:hover .sk-estimator-doc-link:hover,\n",
       ".sk-estimator-doc-link:hover,\n",
       "div.sk-label-container:hover .sk-estimator-doc-link:hover,\n",
       ".sk-estimator-doc-link:hover {\n",
       "  /* unfitted */\n",
       "  background-color: var(--sklearn-color-unfitted-level-3);\n",
       "  color: var(--sklearn-color-background);\n",
       "  text-decoration: none;\n",
       "}\n",
       "\n",
       "div.sk-estimator.fitted:hover .sk-estimator-doc-link.fitted:hover,\n",
       ".sk-estimator-doc-link.fitted:hover,\n",
       "div.sk-label-container:hover .sk-estimator-doc-link.fitted:hover,\n",
       ".sk-estimator-doc-link.fitted:hover {\n",
       "  /* fitted */\n",
       "  background-color: var(--sklearn-color-fitted-level-3);\n",
       "  color: var(--sklearn-color-background);\n",
       "  text-decoration: none;\n",
       "}\n",
       "\n",
       "/* Span, style for the box shown on hovering the info icon */\n",
       ".sk-estimator-doc-link span {\n",
       "  display: none;\n",
       "  z-index: 9999;\n",
       "  position: relative;\n",
       "  font-weight: normal;\n",
       "  right: .2ex;\n",
       "  padding: .5ex;\n",
       "  margin: .5ex;\n",
       "  width: min-content;\n",
       "  min-width: 20ex;\n",
       "  max-width: 50ex;\n",
       "  color: var(--sklearn-color-text);\n",
       "  box-shadow: 2pt 2pt 4pt #999;\n",
       "  /* unfitted */\n",
       "  background: var(--sklearn-color-unfitted-level-0);\n",
       "  border: .5pt solid var(--sklearn-color-unfitted-level-3);\n",
       "}\n",
       "\n",
       ".sk-estimator-doc-link.fitted span {\n",
       "  /* fitted */\n",
       "  background: var(--sklearn-color-fitted-level-0);\n",
       "  border: var(--sklearn-color-fitted-level-3);\n",
       "}\n",
       "\n",
       ".sk-estimator-doc-link:hover span {\n",
       "  display: block;\n",
       "}\n",
       "\n",
       "/* \"?\"-specific style due to the `<a>` HTML tag */\n",
       "\n",
       "#sk-container-id-1 a.estimator_doc_link {\n",
       "  float: right;\n",
       "  font-size: 1rem;\n",
       "  line-height: 1em;\n",
       "  font-family: monospace;\n",
       "  background-color: var(--sklearn-color-background);\n",
       "  border-radius: 1rem;\n",
       "  height: 1rem;\n",
       "  width: 1rem;\n",
       "  text-decoration: none;\n",
       "  /* unfitted */\n",
       "  color: var(--sklearn-color-unfitted-level-1);\n",
       "  border: var(--sklearn-color-unfitted-level-1) 1pt solid;\n",
       "}\n",
       "\n",
       "#sk-container-id-1 a.estimator_doc_link.fitted {\n",
       "  /* fitted */\n",
       "  border: var(--sklearn-color-fitted-level-1) 1pt solid;\n",
       "  color: var(--sklearn-color-fitted-level-1);\n",
       "}\n",
       "\n",
       "/* On hover */\n",
       "#sk-container-id-1 a.estimator_doc_link:hover {\n",
       "  /* unfitted */\n",
       "  background-color: var(--sklearn-color-unfitted-level-3);\n",
       "  color: var(--sklearn-color-background);\n",
       "  text-decoration: none;\n",
       "}\n",
       "\n",
       "#sk-container-id-1 a.estimator_doc_link.fitted:hover {\n",
       "  /* fitted */\n",
       "  background-color: var(--sklearn-color-fitted-level-3);\n",
       "}\n",
       "</style><div id=\"sk-container-id-1\" class=\"sk-top-container\"><div class=\"sk-text-repr-fallback\"><pre>GridSearchCV(cv=5, estimator=RandomForestClassifier(random_state=111),\n",
       "             n_jobs=-1,\n",
       "             param_grid={&#x27;bootstrap&#x27;: [True, False],\n",
       "                         &#x27;max_depth&#x27;: [10, 20, None],\n",
       "                         &#x27;min_samples_leaf&#x27;: [1, 2, 4],\n",
       "                         &#x27;min_samples_split&#x27;: [2, 5, 10],\n",
       "                         &#x27;n_estimators&#x27;: [50, 100, 200]},\n",
       "             scoring=&#x27;accuracy&#x27;)</pre><b>In a Jupyter environment, please rerun this cell to show the HTML representation or trust the notebook. <br />On GitHub, the HTML representation is unable to render, please try loading this page with nbviewer.org.</b></div><div class=\"sk-container\" hidden><div class=\"sk-item sk-dashed-wrapped\"><div class=\"sk-label-container\"><div class=\"sk-label fitted sk-toggleable\"><input class=\"sk-toggleable__control sk-hidden--visually\" id=\"sk-estimator-id-1\" type=\"checkbox\" ><label for=\"sk-estimator-id-1\" class=\"sk-toggleable__label fitted sk-toggleable__label-arrow fitted\">&nbsp;&nbsp;GridSearchCV<a class=\"sk-estimator-doc-link fitted\" rel=\"noreferrer\" target=\"_blank\" href=\"https://scikit-learn.org/1.5/modules/generated/sklearn.model_selection.GridSearchCV.html\">?<span>Documentation for GridSearchCV</span></a><span class=\"sk-estimator-doc-link fitted\">i<span>Fitted</span></span></label><div class=\"sk-toggleable__content fitted\"><pre>GridSearchCV(cv=5, estimator=RandomForestClassifier(random_state=111),\n",
       "             n_jobs=-1,\n",
       "             param_grid={&#x27;bootstrap&#x27;: [True, False],\n",
       "                         &#x27;max_depth&#x27;: [10, 20, None],\n",
       "                         &#x27;min_samples_leaf&#x27;: [1, 2, 4],\n",
       "                         &#x27;min_samples_split&#x27;: [2, 5, 10],\n",
       "                         &#x27;n_estimators&#x27;: [50, 100, 200]},\n",
       "             scoring=&#x27;accuracy&#x27;)</pre></div> </div></div><div class=\"sk-parallel\"><div class=\"sk-parallel-item\"><div class=\"sk-item\"><div class=\"sk-label-container\"><div class=\"sk-label fitted sk-toggleable\"><input class=\"sk-toggleable__control sk-hidden--visually\" id=\"sk-estimator-id-2\" type=\"checkbox\" ><label for=\"sk-estimator-id-2\" class=\"sk-toggleable__label fitted sk-toggleable__label-arrow fitted\">best_estimator_: RandomForestClassifier</label><div class=\"sk-toggleable__content fitted\"><pre>RandomForestClassifier(max_depth=20, min_samples_leaf=4, min_samples_split=10,\n",
       "                       n_estimators=200, random_state=111)</pre></div> </div></div><div class=\"sk-serial\"><div class=\"sk-item\"><div class=\"sk-estimator fitted sk-toggleable\"><input class=\"sk-toggleable__control sk-hidden--visually\" id=\"sk-estimator-id-3\" type=\"checkbox\" ><label for=\"sk-estimator-id-3\" class=\"sk-toggleable__label fitted sk-toggleable__label-arrow fitted\">&nbsp;RandomForestClassifier<a class=\"sk-estimator-doc-link fitted\" rel=\"noreferrer\" target=\"_blank\" href=\"https://scikit-learn.org/1.5/modules/generated/sklearn.ensemble.RandomForestClassifier.html\">?<span>Documentation for RandomForestClassifier</span></a></label><div class=\"sk-toggleable__content fitted\"><pre>RandomForestClassifier(max_depth=20, min_samples_leaf=4, min_samples_split=10,\n",
       "                       n_estimators=200, random_state=111)</pre></div> </div></div></div></div></div></div></div></div></div>"
      ],
      "text/plain": [
       "GridSearchCV(cv=5, estimator=RandomForestClassifier(random_state=111),\n",
       "             n_jobs=-1,\n",
       "             param_grid={'bootstrap': [True, False],\n",
       "                         'max_depth': [10, 20, None],\n",
       "                         'min_samples_leaf': [1, 2, 4],\n",
       "                         'min_samples_split': [2, 5, 10],\n",
       "                         'n_estimators': [50, 100, 200]},\n",
       "             scoring='accuracy')"
      ]
     },
     "execution_count": 106,
     "metadata": {},
     "output_type": "execute_result"
    }
   ],
   "source": [
    "# Fit GridSearchCV to find the best parameters\n",
    "grid_search.fit(X_train, y_train)"
   ]
  },
  {
   "cell_type": "code",
   "execution_count": 107,
   "id": "79347ac8-7007-4ecc-9ce5-19cb454d127c",
   "metadata": {},
   "outputs": [
    {
     "name": "stdout",
     "output_type": "stream",
     "text": [
      "Best Hyperparameters: {'bootstrap': True, 'max_depth': 20, 'min_samples_leaf': 4, 'min_samples_split': 10, 'n_estimators': 200}\n"
     ]
    }
   ],
   "source": [
    "# Best hyperparameters\n",
    "best_params = grid_search.best_params_\n",
    "print(\"Best Hyperparameters:\", best_params)"
   ]
  },
  {
   "cell_type": "code",
   "execution_count": 108,
   "id": "bc9bfb1b-00c9-4023-822f-7bd29b0833d9",
   "metadata": {},
   "outputs": [],
   "source": [
    "# Train the final Random Forest model with the best parameters\n",
    "best_rf_model = grid_search.best_estimator_\n",
    "y_pred = best_rf_model.predict(X_test)"
   ]
  },
  {
   "cell_type": "code",
   "execution_count": 109,
   "id": "9a9cc936-0334-4eb4-96b2-2ff65e2a0ee6",
   "metadata": {},
   "outputs": [
    {
     "name": "stdout",
     "output_type": "stream",
     "text": [
      "Accuracy: 0.4189\n",
      "\n",
      "Classification Report:\n",
      "                 precision    recall  f1-score   support\n",
      "\n",
      "           fit       0.38      0.23      0.29       172\n",
      "not applicable       0.40      0.07      0.12       118\n",
      "     too large       0.43      0.47      0.45       309\n",
      "     too small       0.42      0.59      0.49       332\n",
      "\n",
      "      accuracy                           0.42       931\n",
      "     macro avg       0.41      0.34      0.34       931\n",
      "  weighted avg       0.41      0.42      0.39       931\n",
      "\n"
     ]
    }
   ],
   "source": [
    "# Evaluate performance\n",
    "accuracy = accuracy_score(y_test, y_pred)\n",
    "print(f'Accuracy: {accuracy:.4f}')\n",
    "print(\"\\nClassification Report:\\n\", classification_report(y_test, y_pred))"
   ]
  },
  {
   "cell_type": "code",
   "execution_count": 110,
   "id": "81fa5994-0125-4c3a-9260-372baa08ad6b",
   "metadata": {},
   "outputs": [],
   "source": [
    "# Confusion matrix\n",
    "conf_matrix = confusion_matrix(y_test, y_pred, labels = ['fit', 'too small', 'too large', 'not applicable'])"
   ]
  },
  {
   "cell_type": "code",
   "execution_count": 111,
   "id": "b4220e33-e82a-4bb0-9832-455dcdb871d6",
   "metadata": {},
   "outputs": [
    {
     "data": {
      "image/png": "[encoded data removed]",
      "text/plain": [
       "<Figure size 600x400 with 2 Axes>"
      ]
     },
     "metadata": {},
     "output_type": "display_data"
    }
   ],
   "source": [
    "# Plot confusion matrix\n",
    "plt.figure(figsize = (6, 4))\n",
    "sns.heatmap(conf_matrix, annot = True, fmt = 'd', cmap = 'Blues', xticklabels = ['fit', 'too small', 'too large', 'not applicable'], yticklabels = ['fit', 'too small', 'too large', 'not applicable'])\n",
    "plt.xlabel('Predicted')\n",
    "plt.ylabel('Actual')\n",
    "plt.title('Confusion Matrix')\n",
    "plt.show()"
   ]
  },
  {
   "cell_type": "code",
   "execution_count": 112,
   "id": "18bfb123-b9ad-4142-8516-52d553d9d3bc",
   "metadata": {},
   "outputs": [],
   "source": [
    "# Feature importance\n",
    "feature_names = list(preprocessor.named_transformers_['cat'].get_feature_names_out(categorical_features)) + numerical_features\n",
    "feature_importances = pd.DataFrame({'Feature': feature_names, 'Importance': best_rf_model.feature_importances_}).sort_values(by = 'Importance', ascending = False)"
   ]
  },
  {
   "cell_type": "code",
   "execution_count": 113,
   "id": "beba43ed-3ffc-4c93-8b72-b382d3921c9a",
   "metadata": {},
   "outputs": [
    {
     "data": {
      "image/png": "[encoded data removed]",
      "text/plain": [
       "<Figure size 1000x500 with 1 Axes>"
      ]
     },
     "metadata": {},
     "output_type": "display_data"
    }
   ],
   "source": [
    "# Plot feature importance\n",
    "plt.figure(figsize = (10, 5))\n",
    "sns.barplot(x = 'Importance', y = 'Feature', data = feature_importances)\n",
    "plt.xlabel('Feature Importance')\n",
    "plt.ylabel('Feature')\n",
    "plt.title('Feature Importance of Random Forest')\n",
    "plt.show()"
   ]
  },
  {
   "cell_type": "markdown",
   "id": "3287a5c0-db59-4e9e-80ac-9560c5055dc7",
   "metadata": {},
   "source": [
    "---"
   ]
  },
  {
   "cell_type": "markdown",
   "id": "b4d5c31a-da93-4eff-80e2-9958d20809cf",
   "metadata": {},
   "source": [
    "### Transformer <a id=\"transformer\"></a>"
   ]
  },
  {
   "cell_type": "code",
   "execution_count": 116,
   "id": "3f7cf306-6d21-4fd5-b6a6-f87294d0175f",
   "metadata": {},
   "outputs": [],
   "source": [
    "TARGET = \"fit_outcome\""
   ]
  },
  {
   "cell_type": "code",
   "execution_count": 117,
   "id": "4f2c0c87-9a3c-4946-99ad-55a6539bd197",
   "metadata": {},
   "outputs": [],
   "source": [
    "train_df = X_train_df.copy()\n",
    "train_df[TARGET] = pd.Series(y_train).reset_index(drop=True)\n",
    "\n",
    "test_df = X_test_df.copy()\n",
    "test_df[TARGET] = pd.Series(y_test).reset_index(drop=True)"
   ]
  },
  {
   "cell_type": "code",
   "execution_count": 118,
   "id": "577d3712-caa1-43bb-a1c6-0b9a60467420",
   "metadata": {},
   "outputs": [],
   "source": [
    "enc = OrdinalEncoder(dtype=np.int64)\n",
    "y_train_enc = enc.fit_transform(train_df[[TARGET]]).ravel()\n",
    "y_test_enc = enc.transform(test_df[[TARGET]]).ravel()"
   ]
  },
  {
   "cell_type": "code",
   "execution_count": 119,
   "id": "b20b7cf5-aed5-4656-8e68-7f82bed66c38",
   "metadata": {},
   "outputs": [],
   "source": [
    "train_df[TARGET] = pd.Series(y_train_enc)\n",
    "test_df[TARGET] = pd.Series(y_test_enc)"
   ]
  },
  {
   "cell_type": "code",
   "execution_count": 120,
   "id": "8c29b825-aa0b-481b-9001-0d624ece9259",
   "metadata": {},
   "outputs": [],
   "source": [
    "# Columns\n",
    "USER_CATEGORICALS = [\"gender\", \"country\"]\n",
    "ITEM_CATEGORICALS = [\"product_type\", \"section\", \"material\"]\n",
    "USER_NUMERICS     = [\"age\"]\n",
    "ITEM_NUMERICS     = []"
   ]
  },
  {
   "cell_type": "code",
   "execution_count": 121,
   "id": "46917ebe-7134-4642-b200-7276b06535de",
   "metadata": {},
   "outputs": [],
   "source": [
    "import torch\n",
    "from torch.utils.data import Dataset, DataLoader\n",
    "\n",
    "class FrameDataset(Dataset):\n",
    "    def __init__(self, df, user_cat, item_cat, user_num, item_num, target):\n",
    "        self.df = df.reset_index(drop=True)\n",
    "        self.user_cat = user_cat\n",
    "        self.item_cat = item_cat\n",
    "        self.user_num = user_num\n",
    "        self.item_num = item_num\n",
    "        self.target = target\n",
    "\n",
    "    def __len__(self):\n",
    "        return len(self.df)\n",
    "\n",
    "    def __getitem__(self, idx):\n",
    "        row = self.df.iloc[idx]\n",
    "        def grab(cols): \n",
    "            return [] if not cols else [row[c] for c in cols]\n",
    "        sample = {\n",
    "            \"user_categoricals\": torch.tensor(grab(self.user_cat), dtype=torch.long),\n",
    "            \"item_categoricals\": torch.tensor(grab(self.item_cat), dtype=torch.long),\n",
    "            \"user_numeric\":      torch.tensor(grab(self.user_num), dtype=torch.float32),\n",
    "            \"item_numeric\":      torch.tensor(grab(self.item_num), dtype=torch.float32),\n",
    "            \"fit\":               torch.tensor(int(row[self.target]), dtype=torch.long),\n",
    "        }\n",
    "        return sample"
   ]
  },
  {
   "cell_type": "code",
   "execution_count": 122,
   "id": "e728cc47-15f1-45f0-b2af-1fa9134a0ede",
   "metadata": {},
   "outputs": [],
   "source": [
    "def collate_batch(batch):\n",
    "    B = len(batch)\n",
    "    def stack(key, dtype):\n",
    "        if len(batch[0][key]) == 0:\n",
    "            return torch.zeros((B, 0), dtype=dtype)\n",
    "        return torch.stack([b[key] for b in batch], dim=0).to(dtype)\n",
    "    return {\n",
    "        \"user_categoricals\": stack(\"user_categoricals\", torch.long),\n",
    "        \"item_categoricals\": stack(\"item_categoricals\", torch.long),\n",
    "        \"user_numeric\":      stack(\"user_numeric\", torch.float32),\n",
    "        \"item_numeric\":      stack(\"item_numeric\", torch.float32),\n",
    "        \"fit\":               torch.stack([b[\"fit\"] for b in batch], dim=0).to(torch.long),\n",
    "    }"
   ]
  },
  {
   "cell_type": "code",
   "execution_count": 123,
   "id": "cbf8022f-57d4-4dd3-bdcd-75e9dd7262b3",
   "metadata": {},
   "outputs": [],
   "source": [
    "import torch.nn as nn\n",
    "import torch.nn.functional as F"
   ]
  },
  {
   "cell_type": "code",
   "execution_count": 124,
   "id": "3b0bb8e9-5903-4f82-8c81-d19585fa500a",
   "metadata": {},
   "outputs": [],
   "source": [
    "def _activation(name: str):\n",
    "    name = (name or \"\").lower()\n",
    "    if name == \"relu\": return nn.ReLU()\n",
    "    if name == \"gelu\": return nn.GELU()\n",
    "    if name == \"silu\": return nn.SiLU()\n",
    "    return nn.ReLU()"
   ]
  },
  {
   "cell_type": "code",
   "execution_count": 125,
   "id": "b14e451d-b48e-408f-8adb-c8683517233a",
   "metadata": {},
   "outputs": [],
   "source": [
    "def _mlp(in_dim, layers, act, pdrop):\n",
    "    mods, d = [], in_dim\n",
    "    for h in layers:\n",
    "        mods += [nn.Linear(d, h), act, nn.Dropout(pdrop)]\n",
    "        d = h\n",
    "    return nn.Sequential(*mods), (d if layers else in_dim)"
   ]
  },
  {
   "cell_type": "code",
   "execution_count": 126,
   "id": "1380da53-0ed8-4bf6-8d94-016c06b18e4a",
   "metadata": {},
   "outputs": [],
   "source": [
    "class SFNetFlexible(nn.Module):\n",
    "    \"\"\"\n",
    "    Two towers (user/item):\n",
    "      - Embeddings for arbitrary categorical fields\n",
    "      - Concatenate embeddings + numerics\n",
    "      - Tower MLPs per side, then combine with u, v, |u-v|, u*v\n",
    "    \"\"\"\n",
    "    def __init__(self, embedding_dim, user_vocab_sizes, item_vocab_sizes,\n",
    "                 num_user_numeric, num_item_numeric,\n",
    "                 user_pathway, item_pathway, combined_pathway,\n",
    "                 dropout, activation, num_targets):\n",
    "        super().__init__()\n",
    "        self.embed_dim = embedding_dim\n",
    "        self.user_embs = nn.ModuleList([nn.Embedding(v, embedding_dim, max_norm=1.0) for v in user_vocab_sizes])\n",
    "        self.item_embs = nn.ModuleList([nn.Embedding(v, embedding_dim, max_norm=1.0) for v in item_vocab_sizes])\n",
    "\n",
    "        self.num_user_numeric = num_user_numeric\n",
    "        self.num_item_numeric = num_item_numeric\n",
    "\n",
    "        act = _activation(activation)\n",
    "        pdrop = dropout\n",
    "\n",
    "        user_in = embedding_dim * len(self.user_embs) + num_user_numeric\n",
    "        item_in = embedding_dim * len(self.item_embs) + num_item_numeric\n",
    "\n",
    "        self.user_tower, user_last = _mlp(user_in, user_pathway, act, pdrop)\n",
    "        self.item_tower, item_last = _mlp(item_in, item_pathway, act, pdrop)\n",
    "        assert user_last == item_last, \"Last dims of user_pathway and item_pathway must match.\"\n",
    "\n",
    "        combo_in = user_last * 4  # u, v, |u-v|, u*v\n",
    "        self.comb_tower, comb_last = _mlp(combo_in, combined_pathway, act, pdrop)\n",
    "        self.out = nn.Linear(comb_last, num_targets)\n",
    "\n",
    "    def forward(self, batch):\n",
    "        # user tower\n",
    "        if len(self.user_embs):\n",
    "            u_embs = [emb(batch[\"user_categoricals\"][:, i]) for i, emb in enumerate(self.user_embs)]\n",
    "            u_cat = torch.cat(u_embs, dim=-1)\n",
    "        else:\n",
    "            u_cat = batch[\"user_numeric\"].new_zeros((batch[\"user_numeric\"].size(0), 0))\n",
    "        u = torch.cat([u_cat, batch[\"user_numeric\"]], dim=-1) if self.num_user_numeric or len(self.user_embs) else batch[\"user_numeric\"]\n",
    "        u = self.user_tower(u)\n",
    "\n",
    "        # item tower\n",
    "        if len(self.item_embs):\n",
    "            i_embs = [emb(batch[\"item_categoricals\"][:, i]) for i, emb in enumerate(self.item_embs)]\n",
    "            i_cat = torch.cat(i_embs, dim=-1)\n",
    "        else:\n",
    "            i_cat = batch[\"item_numeric\"].new_zeros((batch[\"item_numeric\"].size(0), 0))\n",
    "        v = torch.cat([i_cat, batch[\"item_numeric\"]], dim=-1) if self.num_item_numeric or len(self.item_embs) else batch[\"item_numeric\"]\n",
    "        v = self.item_tower(v)\n",
    "\n",
    "        cross = torch.cat([u, v, torch.abs(u - v), u * v], dim=-1)\n",
    "        logits = self.out(self.comb_tower(cross))\n",
    "        return logits\n"
   ]
  },
  {
   "cell_type": "code",
   "execution_count": 127,
   "id": "2af1bc99-5462-4fea-a59f-501728685342",
   "metadata": {},
   "outputs": [],
   "source": [
    "valid_df = test_df.copy()"
   ]
  },
  {
   "cell_type": "code",
   "execution_count": 128,
   "id": "9891ee90-a708-4a92-a634-d1e2ea53b2f6",
   "metadata": {},
   "outputs": [],
   "source": [
    "import torch, random, numpy as np\n",
    "from torch.utils.data import DataLoader\n",
    "\n",
    "# Repro & device\n",
    "device = torch.device(\"cuda\" if torch.cuda.is_available() else \"cpu\")\n",
    "torch.manual_seed(42); np.random.seed(42); random.seed(42)\n",
    "\n",
    "# Infer vocab sizes from train_df (assumes non-negative int ids; include your UNK id in the data if you used one)\n",
    "def vocab_sizes(df, cols):\n",
    "    return [int(df[c].max()) + 1 for c in cols] if cols else []\n",
    "\n",
    "user_vocab_sizes = vocab_sizes(train_df, USER_CATEGORICALS)\n",
    "item_vocab_sizes = vocab_sizes(train_df, ITEM_CATEGORICALS)\n",
    "\n",
    "# Datasets & loaders\n",
    "train_ds = FrameDataset(train_df, USER_CATEGORICALS, ITEM_CATEGORICALS, USER_NUMERICS, ITEM_NUMERICS, TARGET)\n",
    "valid_ds = FrameDataset(valid_df, USER_CATEGORICALS, ITEM_CATEGORICALS, USER_NUMERICS, ITEM_NUMERICS, TARGET)\n",
    "\n",
    "BATCH_SIZE = 256\n",
    "train_loader = DataLoader(train_ds, batch_size=BATCH_SIZE, shuffle=True, collate_fn=collate_batch, num_workers=0)\n",
    "valid_loader = DataLoader(valid_ds, batch_size=BATCH_SIZE, shuffle=False, collate_fn=collate_batch, num_workers=0)"
   ]
  },
  {
   "cell_type": "code",
   "execution_count": 129,
   "id": "531f83fb-0872-4369-8a61-250449a2d20e",
   "metadata": {},
   "outputs": [],
   "source": [
    "# Model config (keep towers' last dims equal)\n",
    "EMBED_DIM = 32\n",
    "USER_PATH = [128, 64]\n",
    "ITEM_PATH = [128, 64]\n",
    "COMB_PATH = [128, 64]\n",
    "NUM_TARGETS = int(train_df[TARGET].max() + 1)\n",
    "\n",
    "model = SFNetFlexible(\n",
    "    embedding_dim=EMBED_DIM,\n",
    "    user_vocab_sizes=user_vocab_sizes,\n",
    "    item_vocab_sizes=item_vocab_sizes,\n",
    "    num_user_numeric=len(USER_NUMERICS),\n",
    "    num_item_numeric=len(ITEM_NUMERICS),\n",
    "    user_pathway=USER_PATH,\n",
    "    item_pathway=ITEM_PATH,\n",
    "    combined_pathway=COMB_PATH,\n",
    "    dropout=0.2,\n",
    "    activation=\"relu\",\n",
    "    num_targets=NUM_TARGETS,\n",
    ").to(device)\n",
    "\n",
    "opt = torch.optim.AdamW(model.parameters(), lr=1e-3, weight_decay=0.0)\n",
    "criterion = torch.nn.CrossEntropyLoss()"
   ]
  },
  {
   "cell_type": "code",
   "execution_count": 130,
   "id": "c4a0c42e-f20a-48ea-a097-bde844ed8462",
   "metadata": {},
   "outputs": [],
   "source": [
    "def run_epoch(loader, train: bool):\n",
    "    model.train(train)\n",
    "    total_loss, total_correct, total_n = 0.0, 0, 0\n",
    "    for step, batch in enumerate(loader, 1):\n",
    "        for k in batch: batch[k] = batch[k].to(device)\n",
    "        logits = model(batch)\n",
    "        loss = criterion(logits, batch[\"fit\"])\n",
    "        if train:\n",
    "            opt.zero_grad(); loss.backward(); opt.step()\n",
    "        with torch.no_grad():\n",
    "            preds = logits.argmax(dim=-1)\n",
    "            total_correct += (preds == batch[\"fit\"]).sum().item()\n",
    "            total_loss += loss.item() * batch[\"fit\"].size(0)\n",
    "            total_n += batch[\"fit\"].size(0)\n",
    "    return total_loss / max(total_n,1), total_correct / max(total_n,1)"
   ]
  },
  {
   "cell_type": "code",
   "execution_count": 131,
   "id": "e427bc1c-08f4-4a9c-93b8-7912639181b4",
   "metadata": {},
   "outputs": [
    {
     "name": "stdout",
     "output_type": "stream",
     "text": [
      "[01] train loss 1.3608 acc 0.3172 | valid loss 1.3039 acc 0.3566\n",
      "[02] train loss 1.3029 acc 0.3632 | valid loss 1.2874 acc 0.3802\n",
      "[03] train loss 1.2808 acc 0.3809 | valid loss 1.2708 acc 0.4017\n",
      "[04] train loss 1.2678 acc 0.3876 | valid loss 1.2630 acc 0.3942\n",
      "[05] train loss 1.2612 acc 0.4024 | valid loss 1.2609 acc 0.3856\n",
      "[06] train loss 1.2546 acc 0.4097 | valid loss 1.2582 acc 0.4049\n",
      "[07] train loss 1.2483 acc 0.4172 | valid loss 1.2543 acc 0.4071\n",
      "[08] train loss 1.2483 acc 0.4121 | valid loss 1.2504 acc 0.4071\n",
      "[09] train loss 1.2425 acc 0.4196 | valid loss 1.2474 acc 0.4114\n",
      "[10] train loss 1.2410 acc 0.4280 | valid loss 1.2471 acc 0.4189\n"
     ]
    }
   ],
   "source": [
    "best = 0.0\n",
    "for epoch in range(1, 11):\n",
    "    tr_loss, tr_acc = run_epoch(train_loader, train=True)\n",
    "    va_loss, va_acc = run_epoch(valid_loader, train=False)\n",
    "    print(f\"[{epoch:02d}] train loss {tr_loss:.4f} acc {tr_acc:.4f} | valid loss {va_loss:.4f} acc {va_acc:.4f}\")\n",
    "    if va_acc > best: best = va_acc"
   ]
  }
 ],
 "metadata": {
  "kernelspec": {
   "display_name": "Python [conda env:base] *",
   "language": "python",
   "name": "conda-base-py"
  },
  "language_info": {
   "codemirror_mode": {
    "name": "ipython",
    "version": 3
   },
   "file_extension": ".py",
   "mimetype": "text/x-python",
   "name": "python",
   "nbconvert_exporter": "python",
   "pygments_lexer": "ipython3",
   "version": "3.12.7"
  }
 },
 "nbformat": 4,
 "nbformat_minor": 5
}
